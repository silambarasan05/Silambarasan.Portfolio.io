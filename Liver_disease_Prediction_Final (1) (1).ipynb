{
 "cells": [
  {
   "cell_type": "markdown",
   "id": "275f3499",
   "metadata": {},
   "source": [
    "## Introduction\n",
    "##### Liver is the largest internal organ and the largest gland in the human body. it is situated under the rib cage on right side of abdomen. Liver is essential for digesting food, it metabolizes nutrients, regulates blood sugar level and ridding the body of toxic substances. So it is important to take care of the liver health. Our work on Liver disease patient prediction using machine learning approaches helps to reduce the burden on doctors.\n",
    "\n",
    "##### The dataset contains 416 liver patient records and 167 non liver patient records. The target column is a class label used to divide group into liver disease patient and no liver disease patient."
   ]
  },
  {
   "cell_type": "markdown",
   "id": "9c2fa9c8",
   "metadata": {},
   "source": [
    "## Importing Libraries`"
   ]
  },
  {
   "cell_type": "code",
   "execution_count": 1,
   "id": "16ccef4a",
   "metadata": {},
   "outputs": [],
   "source": [
    "import pandas as pd\n",
    "import numpy as np\n",
    "import seaborn as sns\n",
    "import matplotlib.pyplot as plt\n",
    "%matplotlib inline\n",
    "import warnings\n",
    "warnings.filterwarnings(\"ignore\")\n"
   ]
  },
  {
   "cell_type": "markdown",
   "id": "2280b9e5",
   "metadata": {},
   "source": [
    "## Data Collection"
   ]
  },
  {
   "cell_type": "markdown",
   "id": "f1e4bac1",
   "metadata": {},
   "source": [
    "# Importing dataset\n"
   ]
  },
  {
   "cell_type": "markdown",
   "id": "72232075",
   "metadata": {},
   "source": [
    "Since data is in form of csv file we have to use pandas read_csv to load the data"
   ]
  },
  {
   "cell_type": "code",
   "execution_count": 2,
   "id": "c7843167",
   "metadata": {},
   "outputs": [],
   "source": [
    "data=pd.read_csv('Indian Liver Patient Dataset (ILPD).csv',header=None)"
   ]
  },
  {
   "cell_type": "code",
   "execution_count": 3,
   "id": "6bced0c4",
   "metadata": {},
   "outputs": [
    {
     "data": {
      "text/html": [
       "<div>\n",
       "<style scoped>\n",
       "    .dataframe tbody tr th:only-of-type {\n",
       "        vertical-align: middle;\n",
       "    }\n",
       "\n",
       "    .dataframe tbody tr th {\n",
       "        vertical-align: top;\n",
       "    }\n",
       "\n",
       "    .dataframe thead th {\n",
       "        text-align: right;\n",
       "    }\n",
       "</style>\n",
       "<table border=\"1\" class=\"dataframe\">\n",
       "  <thead>\n",
       "    <tr style=\"text-align: right;\">\n",
       "      <th></th>\n",
       "      <th>0</th>\n",
       "      <th>1</th>\n",
       "      <th>2</th>\n",
       "      <th>3</th>\n",
       "      <th>4</th>\n",
       "      <th>5</th>\n",
       "      <th>6</th>\n",
       "      <th>7</th>\n",
       "      <th>8</th>\n",
       "      <th>9</th>\n",
       "      <th>10</th>\n",
       "    </tr>\n",
       "  </thead>\n",
       "  <tbody>\n",
       "    <tr>\n",
       "      <th>0</th>\n",
       "      <td>65</td>\n",
       "      <td>Female</td>\n",
       "      <td>0.7</td>\n",
       "      <td>0.1</td>\n",
       "      <td>187</td>\n",
       "      <td>16</td>\n",
       "      <td>18</td>\n",
       "      <td>6.8</td>\n",
       "      <td>3.3</td>\n",
       "      <td>0.90</td>\n",
       "      <td>1</td>\n",
       "    </tr>\n",
       "    <tr>\n",
       "      <th>1</th>\n",
       "      <td>62</td>\n",
       "      <td>Male</td>\n",
       "      <td>10.9</td>\n",
       "      <td>5.5</td>\n",
       "      <td>699</td>\n",
       "      <td>64</td>\n",
       "      <td>100</td>\n",
       "      <td>7.5</td>\n",
       "      <td>3.2</td>\n",
       "      <td>0.74</td>\n",
       "      <td>1</td>\n",
       "    </tr>\n",
       "    <tr>\n",
       "      <th>2</th>\n",
       "      <td>62</td>\n",
       "      <td>Male</td>\n",
       "      <td>7.3</td>\n",
       "      <td>4.1</td>\n",
       "      <td>490</td>\n",
       "      <td>60</td>\n",
       "      <td>68</td>\n",
       "      <td>7.0</td>\n",
       "      <td>3.3</td>\n",
       "      <td>0.89</td>\n",
       "      <td>1</td>\n",
       "    </tr>\n",
       "    <tr>\n",
       "      <th>3</th>\n",
       "      <td>58</td>\n",
       "      <td>Male</td>\n",
       "      <td>1.0</td>\n",
       "      <td>0.4</td>\n",
       "      <td>182</td>\n",
       "      <td>14</td>\n",
       "      <td>20</td>\n",
       "      <td>6.8</td>\n",
       "      <td>3.4</td>\n",
       "      <td>1.00</td>\n",
       "      <td>1</td>\n",
       "    </tr>\n",
       "    <tr>\n",
       "      <th>4</th>\n",
       "      <td>72</td>\n",
       "      <td>Male</td>\n",
       "      <td>3.9</td>\n",
       "      <td>2.0</td>\n",
       "      <td>195</td>\n",
       "      <td>27</td>\n",
       "      <td>59</td>\n",
       "      <td>7.3</td>\n",
       "      <td>2.4</td>\n",
       "      <td>0.40</td>\n",
       "      <td>1</td>\n",
       "    </tr>\n",
       "    <tr>\n",
       "      <th>...</th>\n",
       "      <td>...</td>\n",
       "      <td>...</td>\n",
       "      <td>...</td>\n",
       "      <td>...</td>\n",
       "      <td>...</td>\n",
       "      <td>...</td>\n",
       "      <td>...</td>\n",
       "      <td>...</td>\n",
       "      <td>...</td>\n",
       "      <td>...</td>\n",
       "      <td>...</td>\n",
       "    </tr>\n",
       "    <tr>\n",
       "      <th>578</th>\n",
       "      <td>60</td>\n",
       "      <td>Male</td>\n",
       "      <td>0.5</td>\n",
       "      <td>0.1</td>\n",
       "      <td>500</td>\n",
       "      <td>20</td>\n",
       "      <td>34</td>\n",
       "      <td>5.9</td>\n",
       "      <td>1.6</td>\n",
       "      <td>0.37</td>\n",
       "      <td>2</td>\n",
       "    </tr>\n",
       "    <tr>\n",
       "      <th>579</th>\n",
       "      <td>40</td>\n",
       "      <td>Male</td>\n",
       "      <td>0.6</td>\n",
       "      <td>0.1</td>\n",
       "      <td>98</td>\n",
       "      <td>35</td>\n",
       "      <td>31</td>\n",
       "      <td>6.0</td>\n",
       "      <td>3.2</td>\n",
       "      <td>1.10</td>\n",
       "      <td>1</td>\n",
       "    </tr>\n",
       "    <tr>\n",
       "      <th>580</th>\n",
       "      <td>52</td>\n",
       "      <td>Male</td>\n",
       "      <td>0.8</td>\n",
       "      <td>0.2</td>\n",
       "      <td>245</td>\n",
       "      <td>48</td>\n",
       "      <td>49</td>\n",
       "      <td>6.4</td>\n",
       "      <td>3.2</td>\n",
       "      <td>1.00</td>\n",
       "      <td>1</td>\n",
       "    </tr>\n",
       "    <tr>\n",
       "      <th>581</th>\n",
       "      <td>31</td>\n",
       "      <td>Male</td>\n",
       "      <td>1.3</td>\n",
       "      <td>0.5</td>\n",
       "      <td>184</td>\n",
       "      <td>29</td>\n",
       "      <td>32</td>\n",
       "      <td>6.8</td>\n",
       "      <td>3.4</td>\n",
       "      <td>1.00</td>\n",
       "      <td>1</td>\n",
       "    </tr>\n",
       "    <tr>\n",
       "      <th>582</th>\n",
       "      <td>38</td>\n",
       "      <td>Male</td>\n",
       "      <td>1.0</td>\n",
       "      <td>0.3</td>\n",
       "      <td>216</td>\n",
       "      <td>21</td>\n",
       "      <td>24</td>\n",
       "      <td>7.3</td>\n",
       "      <td>4.4</td>\n",
       "      <td>1.50</td>\n",
       "      <td>2</td>\n",
       "    </tr>\n",
       "  </tbody>\n",
       "</table>\n",
       "<p>583 rows × 11 columns</p>\n",
       "</div>"
      ],
      "text/plain": [
       "     0       1     2    3    4   5    6    7    8     9   10\n",
       "0    65  Female   0.7  0.1  187  16   18  6.8  3.3  0.90   1\n",
       "1    62    Male  10.9  5.5  699  64  100  7.5  3.2  0.74   1\n",
       "2    62    Male   7.3  4.1  490  60   68  7.0  3.3  0.89   1\n",
       "3    58    Male   1.0  0.4  182  14   20  6.8  3.4  1.00   1\n",
       "4    72    Male   3.9  2.0  195  27   59  7.3  2.4  0.40   1\n",
       "..   ..     ...   ...  ...  ...  ..  ...  ...  ...   ...  ..\n",
       "578  60    Male   0.5  0.1  500  20   34  5.9  1.6  0.37   2\n",
       "579  40    Male   0.6  0.1   98  35   31  6.0  3.2  1.10   1\n",
       "580  52    Male   0.8  0.2  245  48   49  6.4  3.2  1.00   1\n",
       "581  31    Male   1.3  0.5  184  29   32  6.8  3.4  1.00   1\n",
       "582  38    Male   1.0  0.3  216  21   24  7.3  4.4  1.50   2\n",
       "\n",
       "[583 rows x 11 columns]"
      ]
     },
     "execution_count": 3,
     "metadata": {},
     "output_type": "execute_result"
    }
   ],
   "source": [
    "data"
   ]
  },
  {
   "cell_type": "code",
   "execution_count": 4,
   "id": "462860ac",
   "metadata": {},
   "outputs": [],
   "source": [
    "data.rename(columns={0:'Age_of_patient',1:'Gender',2:'Total Bilirubin',3:'Direct Bilirubin',4:'Alkaline Phosphotase',\n",
    "                    5:'Alamine Aminotransferase',6:'Aspartate Aminotransferase',7:'Total Protiens',8:'Albumin',\n",
    "                    9:'Albumin and Globulin Ratio',10:'Target'},inplace=True)"
   ]
  },
  {
   "cell_type": "code",
   "execution_count": 5,
   "id": "105d0a01",
   "metadata": {},
   "outputs": [
    {
     "data": {
      "text/html": [
       "<div>\n",
       "<style scoped>\n",
       "    .dataframe tbody tr th:only-of-type {\n",
       "        vertical-align: middle;\n",
       "    }\n",
       "\n",
       "    .dataframe tbody tr th {\n",
       "        vertical-align: top;\n",
       "    }\n",
       "\n",
       "    .dataframe thead th {\n",
       "        text-align: right;\n",
       "    }\n",
       "</style>\n",
       "<table border=\"1\" class=\"dataframe\">\n",
       "  <thead>\n",
       "    <tr style=\"text-align: right;\">\n",
       "      <th></th>\n",
       "      <th>Age_of_patient</th>\n",
       "      <th>Gender</th>\n",
       "      <th>Total Bilirubin</th>\n",
       "      <th>Direct Bilirubin</th>\n",
       "      <th>Alkaline Phosphotase</th>\n",
       "      <th>Alamine Aminotransferase</th>\n",
       "      <th>Aspartate Aminotransferase</th>\n",
       "      <th>Total Protiens</th>\n",
       "      <th>Albumin</th>\n",
       "      <th>Albumin and Globulin Ratio</th>\n",
       "      <th>Target</th>\n",
       "    </tr>\n",
       "  </thead>\n",
       "  <tbody>\n",
       "    <tr>\n",
       "      <th>0</th>\n",
       "      <td>65</td>\n",
       "      <td>Female</td>\n",
       "      <td>0.7</td>\n",
       "      <td>0.1</td>\n",
       "      <td>187</td>\n",
       "      <td>16</td>\n",
       "      <td>18</td>\n",
       "      <td>6.8</td>\n",
       "      <td>3.3</td>\n",
       "      <td>0.90</td>\n",
       "      <td>1</td>\n",
       "    </tr>\n",
       "    <tr>\n",
       "      <th>1</th>\n",
       "      <td>62</td>\n",
       "      <td>Male</td>\n",
       "      <td>10.9</td>\n",
       "      <td>5.5</td>\n",
       "      <td>699</td>\n",
       "      <td>64</td>\n",
       "      <td>100</td>\n",
       "      <td>7.5</td>\n",
       "      <td>3.2</td>\n",
       "      <td>0.74</td>\n",
       "      <td>1</td>\n",
       "    </tr>\n",
       "    <tr>\n",
       "      <th>2</th>\n",
       "      <td>62</td>\n",
       "      <td>Male</td>\n",
       "      <td>7.3</td>\n",
       "      <td>4.1</td>\n",
       "      <td>490</td>\n",
       "      <td>60</td>\n",
       "      <td>68</td>\n",
       "      <td>7.0</td>\n",
       "      <td>3.3</td>\n",
       "      <td>0.89</td>\n",
       "      <td>1</td>\n",
       "    </tr>\n",
       "    <tr>\n",
       "      <th>3</th>\n",
       "      <td>58</td>\n",
       "      <td>Male</td>\n",
       "      <td>1.0</td>\n",
       "      <td>0.4</td>\n",
       "      <td>182</td>\n",
       "      <td>14</td>\n",
       "      <td>20</td>\n",
       "      <td>6.8</td>\n",
       "      <td>3.4</td>\n",
       "      <td>1.00</td>\n",
       "      <td>1</td>\n",
       "    </tr>\n",
       "    <tr>\n",
       "      <th>4</th>\n",
       "      <td>72</td>\n",
       "      <td>Male</td>\n",
       "      <td>3.9</td>\n",
       "      <td>2.0</td>\n",
       "      <td>195</td>\n",
       "      <td>27</td>\n",
       "      <td>59</td>\n",
       "      <td>7.3</td>\n",
       "      <td>2.4</td>\n",
       "      <td>0.40</td>\n",
       "      <td>1</td>\n",
       "    </tr>\n",
       "  </tbody>\n",
       "</table>\n",
       "</div>"
      ],
      "text/plain": [
       "   Age_of_patient  Gender  Total Bilirubin  Direct Bilirubin  \\\n",
       "0              65  Female              0.7               0.1   \n",
       "1              62    Male             10.9               5.5   \n",
       "2              62    Male              7.3               4.1   \n",
       "3              58    Male              1.0               0.4   \n",
       "4              72    Male              3.9               2.0   \n",
       "\n",
       "   Alkaline Phosphotase  Alamine Aminotransferase  Aspartate Aminotransferase  \\\n",
       "0                   187                        16                          18   \n",
       "1                   699                        64                         100   \n",
       "2                   490                        60                          68   \n",
       "3                   182                        14                          20   \n",
       "4                   195                        27                          59   \n",
       "\n",
       "   Total Protiens  Albumin  Albumin and Globulin Ratio  Target  \n",
       "0             6.8      3.3                        0.90       1  \n",
       "1             7.5      3.2                        0.74       1  \n",
       "2             7.0      3.3                        0.89       1  \n",
       "3             6.8      3.4                        1.00       1  \n",
       "4             7.3      2.4                        0.40       1  "
      ]
     },
     "execution_count": 5,
     "metadata": {},
     "output_type": "execute_result"
    }
   ],
   "source": [
    "data.head()"
   ]
  },
  {
   "cell_type": "code",
   "execution_count": 6,
   "id": "49f31802",
   "metadata": {},
   "outputs": [
    {
     "data": {
      "text/plain": [
       "(583, 11)"
      ]
     },
     "execution_count": 6,
     "metadata": {},
     "output_type": "execute_result"
    }
   ],
   "source": [
    "data.shape"
   ]
  },
  {
   "cell_type": "code",
   "execution_count": 7,
   "id": "6f47937b",
   "metadata": {},
   "outputs": [
    {
     "name": "stdout",
     "output_type": "stream",
     "text": [
      "<class 'pandas.core.frame.DataFrame'>\n",
      "RangeIndex: 583 entries, 0 to 582\n",
      "Data columns (total 11 columns):\n",
      " #   Column                      Non-Null Count  Dtype  \n",
      "---  ------                      --------------  -----  \n",
      " 0   Age_of_patient              583 non-null    int64  \n",
      " 1   Gender                      583 non-null    object \n",
      " 2   Total Bilirubin             583 non-null    float64\n",
      " 3   Direct Bilirubin            583 non-null    float64\n",
      " 4   Alkaline Phosphotase        583 non-null    int64  \n",
      " 5   Alamine Aminotransferase    583 non-null    int64  \n",
      " 6   Aspartate Aminotransferase  583 non-null    int64  \n",
      " 7   Total Protiens              583 non-null    float64\n",
      " 8   Albumin                     583 non-null    float64\n",
      " 9   Albumin and Globulin Ratio  579 non-null    float64\n",
      " 10  Target                      583 non-null    int64  \n",
      "dtypes: float64(5), int64(5), object(1)\n",
      "memory usage: 50.2+ KB\n"
     ]
    }
   ],
   "source": [
    "data.info()"
   ]
  },
  {
   "cell_type": "code",
   "execution_count": 8,
   "id": "891d6c92",
   "metadata": {},
   "outputs": [
    {
     "data": {
      "text/plain": [
       "13"
      ]
     },
     "execution_count": 8,
     "metadata": {},
     "output_type": "execute_result"
    }
   ],
   "source": [
    "data.duplicated().sum()"
   ]
  },
  {
   "cell_type": "code",
   "execution_count": 9,
   "id": "eb9099b4",
   "metadata": {},
   "outputs": [
    {
     "data": {
      "text/html": [
       "<div>\n",
       "<style scoped>\n",
       "    .dataframe tbody tr th:only-of-type {\n",
       "        vertical-align: middle;\n",
       "    }\n",
       "\n",
       "    .dataframe tbody tr th {\n",
       "        vertical-align: top;\n",
       "    }\n",
       "\n",
       "    .dataframe thead th {\n",
       "        text-align: right;\n",
       "    }\n",
       "</style>\n",
       "<table border=\"1\" class=\"dataframe\">\n",
       "  <thead>\n",
       "    <tr style=\"text-align: right;\">\n",
       "      <th></th>\n",
       "      <th>Age_of_patient</th>\n",
       "      <th>Gender</th>\n",
       "      <th>Total Bilirubin</th>\n",
       "      <th>Direct Bilirubin</th>\n",
       "      <th>Alkaline Phosphotase</th>\n",
       "      <th>Alamine Aminotransferase</th>\n",
       "      <th>Aspartate Aminotransferase</th>\n",
       "      <th>Total Protiens</th>\n",
       "      <th>Albumin</th>\n",
       "      <th>Albumin and Globulin Ratio</th>\n",
       "      <th>Target</th>\n",
       "    </tr>\n",
       "  </thead>\n",
       "  <tbody>\n",
       "    <tr>\n",
       "      <th>19</th>\n",
       "      <td>40</td>\n",
       "      <td>Female</td>\n",
       "      <td>0.9</td>\n",
       "      <td>0.3</td>\n",
       "      <td>293</td>\n",
       "      <td>232</td>\n",
       "      <td>245</td>\n",
       "      <td>6.8</td>\n",
       "      <td>3.1</td>\n",
       "      <td>0.80</td>\n",
       "      <td>1</td>\n",
       "    </tr>\n",
       "    <tr>\n",
       "      <th>26</th>\n",
       "      <td>34</td>\n",
       "      <td>Male</td>\n",
       "      <td>4.1</td>\n",
       "      <td>2.0</td>\n",
       "      <td>289</td>\n",
       "      <td>875</td>\n",
       "      <td>731</td>\n",
       "      <td>5.0</td>\n",
       "      <td>2.7</td>\n",
       "      <td>1.10</td>\n",
       "      <td>1</td>\n",
       "    </tr>\n",
       "    <tr>\n",
       "      <th>34</th>\n",
       "      <td>38</td>\n",
       "      <td>Female</td>\n",
       "      <td>2.6</td>\n",
       "      <td>1.2</td>\n",
       "      <td>410</td>\n",
       "      <td>59</td>\n",
       "      <td>57</td>\n",
       "      <td>5.6</td>\n",
       "      <td>3.0</td>\n",
       "      <td>0.80</td>\n",
       "      <td>2</td>\n",
       "    </tr>\n",
       "    <tr>\n",
       "      <th>55</th>\n",
       "      <td>42</td>\n",
       "      <td>Male</td>\n",
       "      <td>8.9</td>\n",
       "      <td>4.5</td>\n",
       "      <td>272</td>\n",
       "      <td>31</td>\n",
       "      <td>61</td>\n",
       "      <td>5.8</td>\n",
       "      <td>2.0</td>\n",
       "      <td>0.50</td>\n",
       "      <td>1</td>\n",
       "    </tr>\n",
       "    <tr>\n",
       "      <th>62</th>\n",
       "      <td>58</td>\n",
       "      <td>Male</td>\n",
       "      <td>1.0</td>\n",
       "      <td>0.5</td>\n",
       "      <td>158</td>\n",
       "      <td>37</td>\n",
       "      <td>43</td>\n",
       "      <td>7.2</td>\n",
       "      <td>3.6</td>\n",
       "      <td>1.00</td>\n",
       "      <td>1</td>\n",
       "    </tr>\n",
       "    <tr>\n",
       "      <th>106</th>\n",
       "      <td>36</td>\n",
       "      <td>Male</td>\n",
       "      <td>5.3</td>\n",
       "      <td>2.3</td>\n",
       "      <td>145</td>\n",
       "      <td>32</td>\n",
       "      <td>92</td>\n",
       "      <td>5.1</td>\n",
       "      <td>2.6</td>\n",
       "      <td>1.00</td>\n",
       "      <td>2</td>\n",
       "    </tr>\n",
       "    <tr>\n",
       "      <th>108</th>\n",
       "      <td>36</td>\n",
       "      <td>Male</td>\n",
       "      <td>0.8</td>\n",
       "      <td>0.2</td>\n",
       "      <td>158</td>\n",
       "      <td>29</td>\n",
       "      <td>39</td>\n",
       "      <td>6.0</td>\n",
       "      <td>2.2</td>\n",
       "      <td>0.50</td>\n",
       "      <td>2</td>\n",
       "    </tr>\n",
       "    <tr>\n",
       "      <th>138</th>\n",
       "      <td>18</td>\n",
       "      <td>Male</td>\n",
       "      <td>0.8</td>\n",
       "      <td>0.2</td>\n",
       "      <td>282</td>\n",
       "      <td>72</td>\n",
       "      <td>140</td>\n",
       "      <td>5.5</td>\n",
       "      <td>2.5</td>\n",
       "      <td>0.80</td>\n",
       "      <td>1</td>\n",
       "    </tr>\n",
       "    <tr>\n",
       "      <th>143</th>\n",
       "      <td>30</td>\n",
       "      <td>Male</td>\n",
       "      <td>1.6</td>\n",
       "      <td>0.4</td>\n",
       "      <td>332</td>\n",
       "      <td>84</td>\n",
       "      <td>139</td>\n",
       "      <td>5.6</td>\n",
       "      <td>2.7</td>\n",
       "      <td>0.90</td>\n",
       "      <td>1</td>\n",
       "    </tr>\n",
       "    <tr>\n",
       "      <th>158</th>\n",
       "      <td>72</td>\n",
       "      <td>Male</td>\n",
       "      <td>0.7</td>\n",
       "      <td>0.1</td>\n",
       "      <td>196</td>\n",
       "      <td>20</td>\n",
       "      <td>35</td>\n",
       "      <td>5.8</td>\n",
       "      <td>2.0</td>\n",
       "      <td>0.50</td>\n",
       "      <td>1</td>\n",
       "    </tr>\n",
       "    <tr>\n",
       "      <th>164</th>\n",
       "      <td>39</td>\n",
       "      <td>Male</td>\n",
       "      <td>1.9</td>\n",
       "      <td>0.9</td>\n",
       "      <td>180</td>\n",
       "      <td>42</td>\n",
       "      <td>62</td>\n",
       "      <td>7.4</td>\n",
       "      <td>4.3</td>\n",
       "      <td>1.38</td>\n",
       "      <td>1</td>\n",
       "    </tr>\n",
       "    <tr>\n",
       "      <th>174</th>\n",
       "      <td>31</td>\n",
       "      <td>Male</td>\n",
       "      <td>0.6</td>\n",
       "      <td>0.1</td>\n",
       "      <td>175</td>\n",
       "      <td>48</td>\n",
       "      <td>34</td>\n",
       "      <td>6.0</td>\n",
       "      <td>3.7</td>\n",
       "      <td>1.60</td>\n",
       "      <td>1</td>\n",
       "    </tr>\n",
       "    <tr>\n",
       "      <th>201</th>\n",
       "      <td>49</td>\n",
       "      <td>Male</td>\n",
       "      <td>0.6</td>\n",
       "      <td>0.1</td>\n",
       "      <td>218</td>\n",
       "      <td>50</td>\n",
       "      <td>53</td>\n",
       "      <td>5.0</td>\n",
       "      <td>2.4</td>\n",
       "      <td>0.90</td>\n",
       "      <td>1</td>\n",
       "    </tr>\n",
       "  </tbody>\n",
       "</table>\n",
       "</div>"
      ],
      "text/plain": [
       "     Age_of_patient  Gender  Total Bilirubin  Direct Bilirubin  \\\n",
       "19               40  Female              0.9               0.3   \n",
       "26               34    Male              4.1               2.0   \n",
       "34               38  Female              2.6               1.2   \n",
       "55               42    Male              8.9               4.5   \n",
       "62               58    Male              1.0               0.5   \n",
       "106              36    Male              5.3               2.3   \n",
       "108              36    Male              0.8               0.2   \n",
       "138              18    Male              0.8               0.2   \n",
       "143              30    Male              1.6               0.4   \n",
       "158              72    Male              0.7               0.1   \n",
       "164              39    Male              1.9               0.9   \n",
       "174              31    Male              0.6               0.1   \n",
       "201              49    Male              0.6               0.1   \n",
       "\n",
       "     Alkaline Phosphotase  Alamine Aminotransferase  \\\n",
       "19                    293                       232   \n",
       "26                    289                       875   \n",
       "34                    410                        59   \n",
       "55                    272                        31   \n",
       "62                    158                        37   \n",
       "106                   145                        32   \n",
       "108                   158                        29   \n",
       "138                   282                        72   \n",
       "143                   332                        84   \n",
       "158                   196                        20   \n",
       "164                   180                        42   \n",
       "174                   175                        48   \n",
       "201                   218                        50   \n",
       "\n",
       "     Aspartate Aminotransferase  Total Protiens  Albumin  \\\n",
       "19                          245             6.8      3.1   \n",
       "26                          731             5.0      2.7   \n",
       "34                           57             5.6      3.0   \n",
       "55                           61             5.8      2.0   \n",
       "62                           43             7.2      3.6   \n",
       "106                          92             5.1      2.6   \n",
       "108                          39             6.0      2.2   \n",
       "138                         140             5.5      2.5   \n",
       "143                         139             5.6      2.7   \n",
       "158                          35             5.8      2.0   \n",
       "164                          62             7.4      4.3   \n",
       "174                          34             6.0      3.7   \n",
       "201                          53             5.0      2.4   \n",
       "\n",
       "     Albumin and Globulin Ratio  Target  \n",
       "19                         0.80       1  \n",
       "26                         1.10       1  \n",
       "34                         0.80       2  \n",
       "55                         0.50       1  \n",
       "62                         1.00       1  \n",
       "106                        1.00       2  \n",
       "108                        0.50       2  \n",
       "138                        0.80       1  \n",
       "143                        0.90       1  \n",
       "158                        0.50       1  \n",
       "164                        1.38       1  \n",
       "174                        1.60       1  \n",
       "201                        0.90       1  "
      ]
     },
     "execution_count": 9,
     "metadata": {},
     "output_type": "execute_result"
    }
   ],
   "source": [
    "data.loc[data.duplicated()==True]"
   ]
  },
  {
   "cell_type": "code",
   "execution_count": 10,
   "id": "11616003",
   "metadata": {},
   "outputs": [],
   "source": [
    "data=data.drop_duplicates()"
   ]
  },
  {
   "cell_type": "code",
   "execution_count": 11,
   "id": "6e99c3ba",
   "metadata": {},
   "outputs": [
    {
     "data": {
      "text/plain": [
       "(570, 11)"
      ]
     },
     "execution_count": 11,
     "metadata": {},
     "output_type": "execute_result"
    }
   ],
   "source": [
    "data.shape"
   ]
  },
  {
   "cell_type": "code",
   "execution_count": 12,
   "id": "06eae6e0",
   "metadata": {},
   "outputs": [
    {
     "data": {
      "text/html": [
       "<div>\n",
       "<style scoped>\n",
       "    .dataframe tbody tr th:only-of-type {\n",
       "        vertical-align: middle;\n",
       "    }\n",
       "\n",
       "    .dataframe tbody tr th {\n",
       "        vertical-align: top;\n",
       "    }\n",
       "\n",
       "    .dataframe thead th {\n",
       "        text-align: right;\n",
       "    }\n",
       "</style>\n",
       "<table border=\"1\" class=\"dataframe\">\n",
       "  <thead>\n",
       "    <tr style=\"text-align: right;\">\n",
       "      <th></th>\n",
       "      <th>Age_of_patient</th>\n",
       "      <th>Total Bilirubin</th>\n",
       "      <th>Direct Bilirubin</th>\n",
       "      <th>Alkaline Phosphotase</th>\n",
       "      <th>Alamine Aminotransferase</th>\n",
       "      <th>Aspartate Aminotransferase</th>\n",
       "      <th>Total Protiens</th>\n",
       "      <th>Albumin</th>\n",
       "      <th>Albumin and Globulin Ratio</th>\n",
       "      <th>Target</th>\n",
       "    </tr>\n",
       "  </thead>\n",
       "  <tbody>\n",
       "    <tr>\n",
       "      <th>count</th>\n",
       "      <td>570.000000</td>\n",
       "      <td>570.000000</td>\n",
       "      <td>570.000000</td>\n",
       "      <td>570.000000</td>\n",
       "      <td>570.000000</td>\n",
       "      <td>570.000000</td>\n",
       "      <td>570.000000</td>\n",
       "      <td>570.000000</td>\n",
       "      <td>566.000000</td>\n",
       "      <td>570.000000</td>\n",
       "    </tr>\n",
       "    <tr>\n",
       "      <th>mean</th>\n",
       "      <td>44.849123</td>\n",
       "      <td>3.321754</td>\n",
       "      <td>1.497544</td>\n",
       "      <td>291.750877</td>\n",
       "      <td>79.728070</td>\n",
       "      <td>109.380702</td>\n",
       "      <td>6.496316</td>\n",
       "      <td>3.148947</td>\n",
       "      <td>0.948004</td>\n",
       "      <td>1.287719</td>\n",
       "    </tr>\n",
       "    <tr>\n",
       "      <th>std</th>\n",
       "      <td>16.242182</td>\n",
       "      <td>6.267941</td>\n",
       "      <td>2.833231</td>\n",
       "      <td>245.291859</td>\n",
       "      <td>181.471697</td>\n",
       "      <td>290.880671</td>\n",
       "      <td>1.088300</td>\n",
       "      <td>0.796813</td>\n",
       "      <td>0.319635</td>\n",
       "      <td>0.453097</td>\n",
       "    </tr>\n",
       "    <tr>\n",
       "      <th>min</th>\n",
       "      <td>4.000000</td>\n",
       "      <td>0.400000</td>\n",
       "      <td>0.100000</td>\n",
       "      <td>63.000000</td>\n",
       "      <td>10.000000</td>\n",
       "      <td>10.000000</td>\n",
       "      <td>2.700000</td>\n",
       "      <td>0.900000</td>\n",
       "      <td>0.300000</td>\n",
       "      <td>1.000000</td>\n",
       "    </tr>\n",
       "    <tr>\n",
       "      <th>25%</th>\n",
       "      <td>33.000000</td>\n",
       "      <td>0.800000</td>\n",
       "      <td>0.200000</td>\n",
       "      <td>176.000000</td>\n",
       "      <td>23.000000</td>\n",
       "      <td>25.000000</td>\n",
       "      <td>5.800000</td>\n",
       "      <td>2.600000</td>\n",
       "      <td>0.700000</td>\n",
       "      <td>1.000000</td>\n",
       "    </tr>\n",
       "    <tr>\n",
       "      <th>50%</th>\n",
       "      <td>45.000000</td>\n",
       "      <td>1.000000</td>\n",
       "      <td>0.300000</td>\n",
       "      <td>208.000000</td>\n",
       "      <td>35.000000</td>\n",
       "      <td>41.000000</td>\n",
       "      <td>6.600000</td>\n",
       "      <td>3.100000</td>\n",
       "      <td>0.950000</td>\n",
       "      <td>1.000000</td>\n",
       "    </tr>\n",
       "    <tr>\n",
       "      <th>75%</th>\n",
       "      <td>58.000000</td>\n",
       "      <td>2.600000</td>\n",
       "      <td>1.300000</td>\n",
       "      <td>298.000000</td>\n",
       "      <td>60.000000</td>\n",
       "      <td>86.750000</td>\n",
       "      <td>7.200000</td>\n",
       "      <td>3.800000</td>\n",
       "      <td>1.100000</td>\n",
       "      <td>2.000000</td>\n",
       "    </tr>\n",
       "    <tr>\n",
       "      <th>max</th>\n",
       "      <td>90.000000</td>\n",
       "      <td>75.000000</td>\n",
       "      <td>19.700000</td>\n",
       "      <td>2110.000000</td>\n",
       "      <td>2000.000000</td>\n",
       "      <td>4929.000000</td>\n",
       "      <td>9.600000</td>\n",
       "      <td>5.500000</td>\n",
       "      <td>2.800000</td>\n",
       "      <td>2.000000</td>\n",
       "    </tr>\n",
       "  </tbody>\n",
       "</table>\n",
       "</div>"
      ],
      "text/plain": [
       "       Age_of_patient  Total Bilirubin  Direct Bilirubin  \\\n",
       "count      570.000000       570.000000        570.000000   \n",
       "mean        44.849123         3.321754          1.497544   \n",
       "std         16.242182         6.267941          2.833231   \n",
       "min          4.000000         0.400000          0.100000   \n",
       "25%         33.000000         0.800000          0.200000   \n",
       "50%         45.000000         1.000000          0.300000   \n",
       "75%         58.000000         2.600000          1.300000   \n",
       "max         90.000000        75.000000         19.700000   \n",
       "\n",
       "       Alkaline Phosphotase  Alamine Aminotransferase  \\\n",
       "count            570.000000                570.000000   \n",
       "mean             291.750877                 79.728070   \n",
       "std              245.291859                181.471697   \n",
       "min               63.000000                 10.000000   \n",
       "25%              176.000000                 23.000000   \n",
       "50%              208.000000                 35.000000   \n",
       "75%              298.000000                 60.000000   \n",
       "max             2110.000000               2000.000000   \n",
       "\n",
       "       Aspartate Aminotransferase  Total Protiens     Albumin  \\\n",
       "count                  570.000000      570.000000  570.000000   \n",
       "mean                   109.380702        6.496316    3.148947   \n",
       "std                    290.880671        1.088300    0.796813   \n",
       "min                     10.000000        2.700000    0.900000   \n",
       "25%                     25.000000        5.800000    2.600000   \n",
       "50%                     41.000000        6.600000    3.100000   \n",
       "75%                     86.750000        7.200000    3.800000   \n",
       "max                   4929.000000        9.600000    5.500000   \n",
       "\n",
       "       Albumin and Globulin Ratio      Target  \n",
       "count                  566.000000  570.000000  \n",
       "mean                     0.948004    1.287719  \n",
       "std                      0.319635    0.453097  \n",
       "min                      0.300000    1.000000  \n",
       "25%                      0.700000    1.000000  \n",
       "50%                      0.950000    1.000000  \n",
       "75%                      1.100000    2.000000  \n",
       "max                      2.800000    2.000000  "
      ]
     },
     "execution_count": 12,
     "metadata": {},
     "output_type": "execute_result"
    }
   ],
   "source": [
    "data.describe()"
   ]
  },
  {
   "cell_type": "code",
   "execution_count": 13,
   "id": "267062e2",
   "metadata": {},
   "outputs": [
    {
     "data": {
      "text/html": [
       "<div>\n",
       "<style scoped>\n",
       "    .dataframe tbody tr th:only-of-type {\n",
       "        vertical-align: middle;\n",
       "    }\n",
       "\n",
       "    .dataframe tbody tr th {\n",
       "        vertical-align: top;\n",
       "    }\n",
       "\n",
       "    .dataframe thead th {\n",
       "        text-align: right;\n",
       "    }\n",
       "</style>\n",
       "<table border=\"1\" class=\"dataframe\">\n",
       "  <thead>\n",
       "    <tr style=\"text-align: right;\">\n",
       "      <th></th>\n",
       "      <th>Gender</th>\n",
       "    </tr>\n",
       "  </thead>\n",
       "  <tbody>\n",
       "    <tr>\n",
       "      <th>count</th>\n",
       "      <td>570</td>\n",
       "    </tr>\n",
       "    <tr>\n",
       "      <th>unique</th>\n",
       "      <td>2</td>\n",
       "    </tr>\n",
       "    <tr>\n",
       "      <th>top</th>\n",
       "      <td>Male</td>\n",
       "    </tr>\n",
       "    <tr>\n",
       "      <th>freq</th>\n",
       "      <td>430</td>\n",
       "    </tr>\n",
       "  </tbody>\n",
       "</table>\n",
       "</div>"
      ],
      "text/plain": [
       "       Gender\n",
       "count     570\n",
       "unique      2\n",
       "top      Male\n",
       "freq      430"
      ]
     },
     "execution_count": 13,
     "metadata": {},
     "output_type": "execute_result"
    }
   ],
   "source": [
    "data.describe(include='O')"
   ]
  },
  {
   "cell_type": "code",
   "execution_count": 14,
   "id": "5dc8a3be",
   "metadata": {},
   "outputs": [
    {
     "data": {
      "text/plain": [
       "Age_of_patient                0\n",
       "Gender                        0\n",
       "Total Bilirubin               0\n",
       "Direct Bilirubin              0\n",
       "Alkaline Phosphotase          0\n",
       "Alamine Aminotransferase      0\n",
       "Aspartate Aminotransferase    0\n",
       "Total Protiens                0\n",
       "Albumin                       0\n",
       "Albumin and Globulin Ratio    4\n",
       "Target                        0\n",
       "dtype: int64"
      ]
     },
     "execution_count": 14,
     "metadata": {},
     "output_type": "execute_result"
    }
   ],
   "source": [
    "data.isnull().sum()"
   ]
  },
  {
   "cell_type": "markdown",
   "id": "f9a53a94",
   "metadata": {},
   "source": [
    "##### ##The dataset contains 4 null values in A/G ratio coulumn"
   ]
  },
  {
   "cell_type": "code",
   "execution_count": 15,
   "id": "92cbe751",
   "metadata": {},
   "outputs": [
    {
     "data": {
      "text/plain": [
       "1    406\n",
       "2    164\n",
       "Name: Target, dtype: int64"
      ]
     },
     "execution_count": 15,
     "metadata": {},
     "output_type": "execute_result"
    }
   ],
   "source": [
    "data.Target.value_counts()"
   ]
  },
  {
   "cell_type": "markdown",
   "id": "e44bdf86",
   "metadata": {},
   "source": [
    "### Exploratory Data Analysis"
   ]
  },
  {
   "cell_type": "code",
   "execution_count": 16,
   "id": "05b3defe",
   "metadata": {},
   "outputs": [
    {
     "data": {
      "application/vnd.jupyter.widget-view+json": {
       "model_id": "0521ec63acad4ccbb9c1adf79f34c0bd",
       "version_major": 2,
       "version_minor": 0
      },
      "text/plain": [
       "                                             |                                             | [  0%]   00:00 ->…"
      ]
     },
     "metadata": {},
     "output_type": "display_data"
    },
    {
     "name": "stdout",
     "output_type": "stream",
     "text": [
      "Report SWEETVIZ_REPORT.html was generated! NOTEBOOK/COLAB USERS: the web browser MAY not pop up, regardless, the report IS saved in your notebook/colab files.\n"
     ]
    }
   ],
   "source": [
    "import sweetviz as sv\n",
    "\n",
    "my_report = sv.analyze(data)\n",
    "my_report.show_html()"
   ]
  },
  {
   "cell_type": "markdown",
   "id": "bfe6881e",
   "metadata": {},
   "source": [
    "### Univariate Analysis"
   ]
  },
  {
   "cell_type": "code",
   "execution_count": 17,
   "id": "2a7df487",
   "metadata": {},
   "outputs": [
    {
     "data": {
      "image/png": "[encoded data removed]",
      "text/plain": [
       "<Figure size 2000x2500 with 11 Axes>"
      ]
     },
     "metadata": {},
     "output_type": "display_data"
    }
   ],
   "source": [
    "plt.figure(figsize=(20,25))\n",
    "plotnumber=1\n",
    "\n",
    "for i in data:\n",
    "    plt.subplot(3,4,plotnumber)\n",
    "    sns.histplot(x=i , data=data)\n",
    "    plotnumber=plotnumber + 1"
   ]
  },
  {
   "cell_type": "markdown",
   "id": "03a99c6b",
   "metadata": {},
   "source": [
    "#### Insights from univariate analysis\n",
    "###### 1.Age, ALP, total protien, albumin, A/G ratio are more or less normally distributed.\n",
    "###### 2.Total bilirubin, direct bilirubin, ALT, AST are positively skewed.\n",
    "###### 3.Gender is biased towards male."
   ]
  },
  {
   "cell_type": "markdown",
   "id": "410bc459",
   "metadata": {},
   "source": [
    "## Feature Engineering"
   ]
  },
  {
   "cell_type": "code",
   "execution_count": 18,
   "id": "788bfdf0",
   "metadata": {},
   "outputs": [
    {
     "data": {
      "text/plain": [
       "Index(['Age_of_patient', 'Gender', 'Total Bilirubin', 'Direct Bilirubin',\n",
       "       'Alkaline Phosphotase', 'Alamine Aminotransferase',\n",
       "       'Aspartate Aminotransferase', 'Total Protiens', 'Albumin',\n",
       "       'Albumin and Globulin Ratio', 'Target'],\n",
       "      dtype='object')"
      ]
     },
     "execution_count": 18,
     "metadata": {},
     "output_type": "execute_result"
    }
   ],
   "source": [
    "data.columns"
   ]
  },
  {
   "cell_type": "markdown",
   "id": "844afc7a",
   "metadata": {},
   "source": [
    "### Handling the missing values"
   ]
  },
  {
   "cell_type": "code",
   "execution_count": 19,
   "id": "c6242f22",
   "metadata": {},
   "outputs": [
    {
     "data": {
      "text/plain": [
       "Age_of_patient                0\n",
       "Gender                        0\n",
       "Total Bilirubin               0\n",
       "Direct Bilirubin              0\n",
       "Alkaline Phosphotase          0\n",
       "Alamine Aminotransferase      0\n",
       "Aspartate Aminotransferase    0\n",
       "Total Protiens                0\n",
       "Albumin                       0\n",
       "Albumin and Globulin Ratio    4\n",
       "Target                        0\n",
       "dtype: int64"
      ]
     },
     "execution_count": 19,
     "metadata": {},
     "output_type": "execute_result"
    }
   ],
   "source": [
    "## Lets go and see the percentage of missing values\n",
    "#Check whether any null values are there or not\n",
    "data.isnull().sum()"
   ]
  },
  {
   "cell_type": "code",
   "execution_count": 20,
   "id": "143f7024",
   "metadata": {},
   "outputs": [
    {
     "data": {
      "text/plain": [
       "Age_of_patient                0.000000\n",
       "Gender                        0.000000\n",
       "Total Bilirubin               0.000000\n",
       "Direct Bilirubin              0.000000\n",
       "Alkaline Phosphotase          0.000000\n",
       "Alamine Aminotransferase      0.000000\n",
       "Aspartate Aminotransferase    0.000000\n",
       "Total Protiens                0.000000\n",
       "Albumin                       0.000000\n",
       "Albumin and Globulin Ratio    0.007018\n",
       "Target                        0.000000\n",
       "dtype: float64"
      ]
     },
     "execution_count": 20,
     "metadata": {},
     "output_type": "execute_result"
    }
   ],
   "source": [
    "data.isnull().mean()"
   ]
  },
  {
   "cell_type": "markdown",
   "id": "68781ad2",
   "metadata": {},
   "source": [
    "## Replacing null values with the median of the column\n",
    "\n",
    " To use mean,median,mode imputation-There is absolutely no relationship between data missing and any other values,observer or missing,within the dataset."
   ]
  },
  {
   "cell_type": "code",
   "execution_count": 21,
   "id": "d89efedc",
   "metadata": {},
   "outputs": [],
   "source": [
    "\n",
    "\n",
    "def impute_nan(df,variable,median):\n",
    "#Filling NaN values with mean, median and mode using fillna() method\n",
    "    df[variable+\"_median\"]=df[variable].fillna(median)"
   ]
  },
  {
   "cell_type": "code",
   "execution_count": 22,
   "id": "a0d1945a",
   "metadata": {},
   "outputs": [],
   "source": [
    "data=data.rename(columns = {'Albumin and Globulin Ratio':'Albumin_Globulin_Ratio'})\n"
   ]
  },
  {
   "cell_type": "code",
   "execution_count": 23,
   "id": "83298c79",
   "metadata": {},
   "outputs": [
    {
     "data": {
      "text/plain": [
       "Index(['Age_of_patient', 'Gender', 'Total Bilirubin', 'Direct Bilirubin',\n",
       "       'Alkaline Phosphotase', 'Alamine Aminotransferase',\n",
       "       'Aspartate Aminotransferase', 'Total Protiens', 'Albumin',\n",
       "       'Albumin_Globulin_Ratio', 'Target'],\n",
       "      dtype='object')"
      ]
     },
     "execution_count": 23,
     "metadata": {},
     "output_type": "execute_result"
    }
   ],
   "source": [
    "data.columns"
   ]
  },
  {
   "cell_type": "code",
   "execution_count": 24,
   "id": "2cab6dd6",
   "metadata": {},
   "outputs": [
    {
     "data": {
      "text/plain": [
       "0.95"
      ]
     },
     "execution_count": 24,
     "metadata": {},
     "output_type": "execute_result"
    }
   ],
   "source": [
    "median=data.Albumin_Globulin_Ratio.median()\n",
    "median"
   ]
  },
  {
   "cell_type": "code",
   "execution_count": 25,
   "id": "abce020a",
   "metadata": {},
   "outputs": [
    {
     "data": {
      "text/plain": [
       "Age_of_patient                   0\n",
       "Gender                           0\n",
       "Total Bilirubin                  0\n",
       "Direct Bilirubin                 0\n",
       "Alkaline Phosphotase             0\n",
       "Alamine Aminotransferase         0\n",
       "Aspartate Aminotransferase       0\n",
       "Total Protiens                   0\n",
       "Albumin                          0\n",
       "Albumin_Globulin_Ratio           0\n",
       "Target                           0\n",
       "Albumin_Globulin_Ratio_median    0\n",
       "dtype: int64"
      ]
     },
     "execution_count": 25,
     "metadata": {},
     "output_type": "execute_result"
    }
   ],
   "source": [
    "impute_nan(data,'Albumin_Globulin_Ratio',median)\n",
    "data.head().isnull().sum()"
   ]
  },
  {
   "cell_type": "code",
   "execution_count": 26,
   "id": "140bc011",
   "metadata": {},
   "outputs": [
    {
     "name": "stdout",
     "output_type": "stream",
     "text": [
      "0.3196354228293773\n",
      "0.31850998617149995\n"
     ]
    }
   ],
   "source": [
    "print(data['Albumin_Globulin_Ratio'].std())\n",
    "print(data['Albumin_Globulin_Ratio_median'].std())"
   ]
  },
  {
   "cell_type": "code",
   "execution_count": 27,
   "id": "3f7a584a",
   "metadata": {},
   "outputs": [],
   "source": [
    "import matplotlib.pyplot as plt\n",
    "%matplotlib inline"
   ]
  },
  {
   "cell_type": "code",
   "execution_count": 28,
   "id": "6f19e71e",
   "metadata": {},
   "outputs": [
    {
     "data": {
      "text/plain": [
       "<matplotlib.legend.Legend at 0x1d4e6090310>"
      ]
     },
     "execution_count": 28,
     "metadata": {},
     "output_type": "execute_result"
    },
    {
     "data": {
      "image/png": "[encoded data removed]",
      "text/plain": [
       "<Figure size 432x288 with 1 Axes>"
      ]
     },
     "metadata": {
      "needs_background": "light"
     },
     "output_type": "display_data"
    }
   ],
   "source": [
    "fig = plt.figure()\n",
    "ax = fig.add_subplot(111)\n",
    "data['Albumin_Globulin_Ratio'].plot(kind='kde', ax=ax)\n",
    "data.Albumin_Globulin_Ratio_median.plot(kind='kde', ax=ax, color='red')\n",
    "lines, labels = ax.get_legend_handles_labels()\n",
    "ax.legend(lines, labels, loc='best')"
   ]
  },
  {
   "cell_type": "markdown",
   "id": "51ca3384",
   "metadata": {},
   "source": [
    "### Handling categorical data"
   ]
  },
  {
   "cell_type": "code",
   "execution_count": 29,
   "id": "9635e505",
   "metadata": {},
   "outputs": [
    {
     "data": {
      "text/plain": [
       "Male      430\n",
       "Female    140\n",
       "Name: Gender, dtype: int64"
      ]
     },
     "execution_count": 29,
     "metadata": {},
     "output_type": "execute_result"
    }
   ],
   "source": [
    "data.Gender.value_counts()"
   ]
  },
  {
   "cell_type": "markdown",
   "id": "54e41206",
   "metadata": {},
   "source": [
    "## Handling Categorical Data\n",
    "#Nominal data --> data are not in any order --> OneHotEncoder is used in this case"
   ]
  },
  {
   "cell_type": "code",
   "execution_count": 3,
   "id": "4f5cd8f2",
   "metadata": {},
   "outputs": [
    {
     "ename": "KeyError",
     "evalue": "'Gender'",
     "output_type": "error",
     "traceback": [
      "\u001b[1;31m---------------------------------------------------------------------------\u001b[0m",
      "\u001b[1;31mKeyError\u001b[0m                                  Traceback (most recent call last)",
      "\u001b[1;32mc:\\users\\harisurya\\appdata\\local\\programs\\python\\python39\\lib\\site-packages\\pandas\\core\\indexes\\base.py\u001b[0m in \u001b[0;36mget_loc\u001b[1;34m(self, key, method, tolerance)\u001b[0m\n\u001b[0;32m   3079\u001b[0m             \u001b[1;32mtry\u001b[0m\u001b[1;33m:\u001b[0m\u001b[1;33m\u001b[0m\u001b[1;33m\u001b[0m\u001b[0m\n\u001b[1;32m-> 3080\u001b[1;33m                 \u001b[1;32mreturn\u001b[0m \u001b[0mself\u001b[0m\u001b[1;33m.\u001b[0m\u001b[0m_engine\u001b[0m\u001b[1;33m.\u001b[0m\u001b[0mget_loc\u001b[0m\u001b[1;33m(\u001b[0m\u001b[0mcasted_key\u001b[0m\u001b[1;33m)\u001b[0m\u001b[1;33m\u001b[0m\u001b[1;33m\u001b[0m\u001b[0m\n\u001b[0m\u001b[0;32m   3081\u001b[0m             \u001b[1;32mexcept\u001b[0m \u001b[0mKeyError\u001b[0m \u001b[1;32mas\u001b[0m \u001b[0merr\u001b[0m\u001b[1;33m:\u001b[0m\u001b[1;33m\u001b[0m\u001b[1;33m\u001b[0m\u001b[0m\n",
      "\u001b[1;32mpandas\\_libs\\index.pyx\u001b[0m in \u001b[0;36mpandas._libs.index.IndexEngine.get_loc\u001b[1;34m()\u001b[0m\n",
      "\u001b[1;32mpandas\\_libs\\index.pyx\u001b[0m in \u001b[0;36mpandas._libs.index.IndexEngine.get_loc\u001b[1;34m()\u001b[0m\n",
      "\u001b[1;32mpandas\\_libs\\index_class_helper.pxi\u001b[0m in \u001b[0;36mpandas._libs.index.Int64Engine._check_type\u001b[1;34m()\u001b[0m\n",
      "\u001b[1;31mKeyError\u001b[0m: 'Gender'",
      "\nThe above exception was the direct cause of the following exception:\n",
      "\u001b[1;31mKeyError\u001b[0m                                  Traceback (most recent call last)",
      "\u001b[1;32mC:\\Users\\HARISU~1\\AppData\\Local\\Temp/ipykernel_14696/2423928926.py\u001b[0m in \u001b[0;36m<module>\u001b[1;34m\u001b[0m\n\u001b[1;32m----> 1\u001b[1;33m \u001b[0mdata1\u001b[0m\u001b[1;33m=\u001b[0m\u001b[0mpd\u001b[0m\u001b[1;33m.\u001b[0m\u001b[0mget_dummies\u001b[0m\u001b[1;33m(\u001b[0m\u001b[0mdata\u001b[0m\u001b[1;33m[\u001b[0m\u001b[1;34m'Gender'\u001b[0m\u001b[1;33m]\u001b[0m\u001b[1;33m,\u001b[0m\u001b[0mdrop_first\u001b[0m\u001b[1;33m=\u001b[0m\u001b[1;32mTrue\u001b[0m\u001b[1;33m)\u001b[0m\u001b[1;33m\u001b[0m\u001b[1;33m\u001b[0m\u001b[0m\n\u001b[0m",
      "\u001b[1;32mc:\\users\\harisurya\\appdata\\local\\programs\\python\\python39\\lib\\site-packages\\pandas\\core\\frame.py\u001b[0m in \u001b[0;36m__getitem__\u001b[1;34m(self, key)\u001b[0m\n\u001b[0;32m   3022\u001b[0m             \u001b[1;32mif\u001b[0m \u001b[0mself\u001b[0m\u001b[1;33m.\u001b[0m\u001b[0mcolumns\u001b[0m\u001b[1;33m.\u001b[0m\u001b[0mnlevels\u001b[0m \u001b[1;33m>\u001b[0m \u001b[1;36m1\u001b[0m\u001b[1;33m:\u001b[0m\u001b[1;33m\u001b[0m\u001b[1;33m\u001b[0m\u001b[0m\n\u001b[0;32m   3023\u001b[0m                 \u001b[1;32mreturn\u001b[0m \u001b[0mself\u001b[0m\u001b[1;33m.\u001b[0m\u001b[0m_getitem_multilevel\u001b[0m\u001b[1;33m(\u001b[0m\u001b[0mkey\u001b[0m\u001b[1;33m)\u001b[0m\u001b[1;33m\u001b[0m\u001b[1;33m\u001b[0m\u001b[0m\n\u001b[1;32m-> 3024\u001b[1;33m             \u001b[0mindexer\u001b[0m \u001b[1;33m=\u001b[0m \u001b[0mself\u001b[0m\u001b[1;33m.\u001b[0m\u001b[0mcolumns\u001b[0m\u001b[1;33m.\u001b[0m\u001b[0mget_loc\u001b[0m\u001b[1;33m(\u001b[0m\u001b[0mkey\u001b[0m\u001b[1;33m)\u001b[0m\u001b[1;33m\u001b[0m\u001b[1;33m\u001b[0m\u001b[0m\n\u001b[0m\u001b[0;32m   3025\u001b[0m             \u001b[1;32mif\u001b[0m \u001b[0mis_integer\u001b[0m\u001b[1;33m(\u001b[0m\u001b[0mindexer\u001b[0m\u001b[1;33m)\u001b[0m\u001b[1;33m:\u001b[0m\u001b[1;33m\u001b[0m\u001b[1;33m\u001b[0m\u001b[0m\n\u001b[0;32m   3026\u001b[0m                 \u001b[0mindexer\u001b[0m \u001b[1;33m=\u001b[0m \u001b[1;33m[\u001b[0m\u001b[0mindexer\u001b[0m\u001b[1;33m]\u001b[0m\u001b[1;33m\u001b[0m\u001b[1;33m\u001b[0m\u001b[0m\n",
      "\u001b[1;32mc:\\users\\harisurya\\appdata\\local\\programs\\python\\python39\\lib\\site-packages\\pandas\\core\\indexes\\base.py\u001b[0m in \u001b[0;36mget_loc\u001b[1;34m(self, key, method, tolerance)\u001b[0m\n\u001b[0;32m   3080\u001b[0m                 \u001b[1;32mreturn\u001b[0m \u001b[0mself\u001b[0m\u001b[1;33m.\u001b[0m\u001b[0m_engine\u001b[0m\u001b[1;33m.\u001b[0m\u001b[0mget_loc\u001b[0m\u001b[1;33m(\u001b[0m\u001b[0mcasted_key\u001b[0m\u001b[1;33m)\u001b[0m\u001b[1;33m\u001b[0m\u001b[1;33m\u001b[0m\u001b[0m\n\u001b[0;32m   3081\u001b[0m             \u001b[1;32mexcept\u001b[0m \u001b[0mKeyError\u001b[0m \u001b[1;32mas\u001b[0m \u001b[0merr\u001b[0m\u001b[1;33m:\u001b[0m\u001b[1;33m\u001b[0m\u001b[1;33m\u001b[0m\u001b[0m\n\u001b[1;32m-> 3082\u001b[1;33m                 \u001b[1;32mraise\u001b[0m \u001b[0mKeyError\u001b[0m\u001b[1;33m(\u001b[0m\u001b[0mkey\u001b[0m\u001b[1;33m)\u001b[0m \u001b[1;32mfrom\u001b[0m \u001b[0merr\u001b[0m\u001b[1;33m\u001b[0m\u001b[1;33m\u001b[0m\u001b[0m\n\u001b[0m\u001b[0;32m   3083\u001b[0m \u001b[1;33m\u001b[0m\u001b[0m\n\u001b[0;32m   3084\u001b[0m         \u001b[1;32mif\u001b[0m \u001b[0mtolerance\u001b[0m \u001b[1;32mis\u001b[0m \u001b[1;32mnot\u001b[0m \u001b[1;32mNone\u001b[0m\u001b[1;33m:\u001b[0m\u001b[1;33m\u001b[0m\u001b[1;33m\u001b[0m\u001b[0m\n",
      "\u001b[1;31mKeyError\u001b[0m: 'Gender'"
     ]
    }
   ],
   "source": [
    "\n",
    "data1=pd.get_dummies(data['Gender'],drop_first=True)"
   ]
  },
  {
   "cell_type": "code",
   "execution_count": 4,
   "id": "569f1282",
   "metadata": {},
   "outputs": [
    {
     "ename": "NameError",
     "evalue": "name 'data1' is not defined",
     "output_type": "error",
     "traceback": [
      "\u001b[1;31m---------------------------------------------------------------------------\u001b[0m",
      "\u001b[1;31mNameError\u001b[0m                                 Traceback (most recent call last)",
      "\u001b[1;32mC:\\Users\\HARISU~1\\AppData\\Local\\Temp/ipykernel_14696/1250998585.py\u001b[0m in \u001b[0;36m<module>\u001b[1;34m\u001b[0m\n\u001b[1;32m----> 1\u001b[1;33m \u001b[0mdata\u001b[0m\u001b[1;33m=\u001b[0m\u001b[0mpd\u001b[0m\u001b[1;33m.\u001b[0m\u001b[0mconcat\u001b[0m\u001b[1;33m(\u001b[0m\u001b[1;33m[\u001b[0m\u001b[0mdata1\u001b[0m\u001b[1;33m,\u001b[0m\u001b[0mdata\u001b[0m\u001b[1;33m]\u001b[0m\u001b[1;33m,\u001b[0m\u001b[0maxis\u001b[0m\u001b[1;33m=\u001b[0m\u001b[1;36m1\u001b[0m\u001b[1;33m)\u001b[0m\u001b[1;33m\u001b[0m\u001b[1;33m\u001b[0m\u001b[0m\n\u001b[0m",
      "\u001b[1;31mNameError\u001b[0m: name 'data1' is not defined"
     ]
    }
   ],
   "source": [
    "data=pd.concat([data1,data],axis=1)\n"
   ]
  },
  {
   "cell_type": "code",
   "execution_count": 32,
   "id": "a5834959",
   "metadata": {},
   "outputs": [],
   "source": [
    "data.drop('Gender',axis=1,inplace=True)\n"
   ]
  },
  {
   "cell_type": "code",
   "execution_count": 33,
   "id": "59593447",
   "metadata": {},
   "outputs": [
    {
     "data": {
      "text/plain": [
       "Index(['Male', 'Age_of_patient', 'Total Bilirubin', 'Direct Bilirubin',\n",
       "       'Alkaline Phosphotase', 'Alamine Aminotransferase',\n",
       "       'Aspartate Aminotransferase', 'Total Protiens', 'Albumin',\n",
       "       'Albumin_Globulin_Ratio', 'Target', 'Albumin_Globulin_Ratio_median'],\n",
       "      dtype='object')"
      ]
     },
     "execution_count": 33,
     "metadata": {},
     "output_type": "execute_result"
    }
   ],
   "source": [
    "data.columns"
   ]
  },
  {
   "cell_type": "markdown",
   "id": "ea3e6e81",
   "metadata": {},
   "source": [
    "## Checking for outliers"
   ]
  },
  {
   "cell_type": "code",
   "execution_count": 34,
   "id": "1888c08a",
   "metadata": {},
   "outputs": [
    {
     "data": {
      "image/png": "[encoded data removed]",
      "text/plain": [
       "<Figure size 1440x1800 with 10 Axes>"
      ]
     },
     "metadata": {},
     "output_type": "display_data"
    }
   ],
   "source": [
    "## let's see how data is distributed for every column\n",
    "plt.figure(figsize=(20,25),facecolor='white')\n",
    "plotnumber=1\n",
    "\n",
    "for column in data:\n",
    "    if plotnumber<=10:\n",
    "        ax=plt.subplot(4,3,plotnumber)\n",
    "        sns.histplot(data[column],kde=True)\n",
    "        plt.xlabel(column,fontsize=20)\n",
    "        plt.ylabel('Count',fontsize=20)\n",
    "    plotnumber+=1\n",
    "plt.tight_layout()"
   ]
  },
  {
   "cell_type": "markdown",
   "id": "41b16d2d",
   "metadata": {},
   "source": [
    "###### some column diagram shows like normal distribution-To use z score formula\n",
    "###### some column diagram right skewed-inter quartile range formula\n"
   ]
  },
  {
   "cell_type": "markdown",
   "id": "eb3014a3",
   "metadata": {},
   "source": [
    "### 1.Age_of_patient"
   ]
  },
  {
   "cell_type": "code",
   "execution_count": 35,
   "id": "8e1622d6",
   "metadata": {},
   "outputs": [
    {
     "name": "stdout",
     "output_type": "stream",
     "text": [
      "-3.8774234605413156\n",
      "93.57566907457641\n",
      "44.849122807017544\n"
     ]
    },
    {
     "data": {
      "text/plain": [
       "(None, None, None)"
      ]
     },
     "execution_count": 35,
     "metadata": {},
     "output_type": "execute_result"
    }
   ],
   "source": [
    "#If The Data Is Normally Distributed We use this\n",
    "uppper_boundary=data['Age_of_patient'].mean() + 3* data['Age_of_patient'].std()\n",
    "lower_boundary=data['Age_of_patient'].mean() - 3* data['Age_of_patient'].std()\n",
    "print(lower_boundary), print(uppper_boundary),print(data['Age_of_patient'].mean())"
   ]
  },
  {
   "cell_type": "markdown",
   "id": "f897797b",
   "metadata": {},
   "source": [
    "### 2.Total Bilirubin"
   ]
  },
  {
   "cell_type": "code",
   "execution_count": 36,
   "id": "2ff1c4c9",
   "metadata": {},
   "outputs": [],
   "source": [
    "#### Lets compute the Interquantile range to calculate the boundaries\n",
    "#If Features Are Skewed We Use the below Technique\n",
    "IQR=data['Total Bilirubin'].quantile(0.75)-data['Total Bilirubin'].quantile(0.25)"
   ]
  },
  {
   "cell_type": "code",
   "execution_count": 37,
   "id": "7702353b",
   "metadata": {},
   "outputs": [
    {
     "name": "stdout",
     "output_type": "stream",
     "text": [
      "-1.9000000000000001\n",
      "5.300000000000001\n"
     ]
    },
    {
     "data": {
      "text/plain": [
       "(None, None)"
      ]
     },
     "execution_count": 37,
     "metadata": {},
     "output_type": "execute_result"
    }
   ],
   "source": [
    "lower_bridge=data['Total Bilirubin'].quantile(0.25)-(IQR*1.5)\n",
    "upper_bridge=data['Total Bilirubin'].quantile(0.75)+(IQR*1.5)\n",
    "print(lower_bridge), print(upper_bridge)"
   ]
  },
  {
   "cell_type": "code",
   "execution_count": 38,
   "id": "ec79e0b7",
   "metadata": {},
   "outputs": [
    {
     "data": {
      "text/html": [
       "<div>\n",
       "<style scoped>\n",
       "    .dataframe tbody tr th:only-of-type {\n",
       "        vertical-align: middle;\n",
       "    }\n",
       "\n",
       "    .dataframe tbody tr th {\n",
       "        vertical-align: top;\n",
       "    }\n",
       "\n",
       "    .dataframe thead th {\n",
       "        text-align: right;\n",
       "    }\n",
       "</style>\n",
       "<table border=\"1\" class=\"dataframe\">\n",
       "  <thead>\n",
       "    <tr style=\"text-align: right;\">\n",
       "      <th></th>\n",
       "      <th>Male</th>\n",
       "      <th>Age_of_patient</th>\n",
       "      <th>Total Bilirubin</th>\n",
       "      <th>Direct Bilirubin</th>\n",
       "      <th>Alkaline Phosphotase</th>\n",
       "      <th>Alamine Aminotransferase</th>\n",
       "      <th>Aspartate Aminotransferase</th>\n",
       "      <th>Total Protiens</th>\n",
       "      <th>Albumin</th>\n",
       "      <th>Albumin_Globulin_Ratio</th>\n",
       "      <th>Target</th>\n",
       "      <th>Albumin_Globulin_Ratio_median</th>\n",
       "    </tr>\n",
       "  </thead>\n",
       "  <tbody>\n",
       "    <tr>\n",
       "      <th>1</th>\n",
       "      <td>1</td>\n",
       "      <td>62</td>\n",
       "      <td>10.9</td>\n",
       "      <td>5.5</td>\n",
       "      <td>699</td>\n",
       "      <td>64</td>\n",
       "      <td>100</td>\n",
       "      <td>7.5</td>\n",
       "      <td>3.2</td>\n",
       "      <td>0.74</td>\n",
       "      <td>1</td>\n",
       "      <td>0.74</td>\n",
       "    </tr>\n",
       "    <tr>\n",
       "      <th>2</th>\n",
       "      <td>1</td>\n",
       "      <td>62</td>\n",
       "      <td>7.3</td>\n",
       "      <td>4.1</td>\n",
       "      <td>490</td>\n",
       "      <td>60</td>\n",
       "      <td>68</td>\n",
       "      <td>7.0</td>\n",
       "      <td>3.3</td>\n",
       "      <td>0.89</td>\n",
       "      <td>1</td>\n",
       "      <td>0.89</td>\n",
       "    </tr>\n",
       "    <tr>\n",
       "      <th>22</th>\n",
       "      <td>1</td>\n",
       "      <td>62</td>\n",
       "      <td>6.8</td>\n",
       "      <td>3.0</td>\n",
       "      <td>542</td>\n",
       "      <td>116</td>\n",
       "      <td>66</td>\n",
       "      <td>6.4</td>\n",
       "      <td>3.1</td>\n",
       "      <td>0.90</td>\n",
       "      <td>1</td>\n",
       "      <td>0.90</td>\n",
       "    </tr>\n",
       "    <tr>\n",
       "      <th>27</th>\n",
       "      <td>1</td>\n",
       "      <td>34</td>\n",
       "      <td>6.2</td>\n",
       "      <td>3.0</td>\n",
       "      <td>240</td>\n",
       "      <td>1680</td>\n",
       "      <td>850</td>\n",
       "      <td>7.2</td>\n",
       "      <td>4.0</td>\n",
       "      <td>1.20</td>\n",
       "      <td>1</td>\n",
       "      <td>1.20</td>\n",
       "    </tr>\n",
       "    <tr>\n",
       "      <th>37</th>\n",
       "      <td>0</td>\n",
       "      <td>46</td>\n",
       "      <td>14.2</td>\n",
       "      <td>7.8</td>\n",
       "      <td>374</td>\n",
       "      <td>38</td>\n",
       "      <td>77</td>\n",
       "      <td>4.3</td>\n",
       "      <td>2.0</td>\n",
       "      <td>0.80</td>\n",
       "      <td>1</td>\n",
       "      <td>0.80</td>\n",
       "    </tr>\n",
       "    <tr>\n",
       "      <th>...</th>\n",
       "      <td>...</td>\n",
       "      <td>...</td>\n",
       "      <td>...</td>\n",
       "      <td>...</td>\n",
       "      <td>...</td>\n",
       "      <td>...</td>\n",
       "      <td>...</td>\n",
       "      <td>...</td>\n",
       "      <td>...</td>\n",
       "      <td>...</td>\n",
       "      <td>...</td>\n",
       "      <td>...</td>\n",
       "    </tr>\n",
       "    <tr>\n",
       "      <th>572</th>\n",
       "      <td>1</td>\n",
       "      <td>32</td>\n",
       "      <td>15.6</td>\n",
       "      <td>9.5</td>\n",
       "      <td>134</td>\n",
       "      <td>54</td>\n",
       "      <td>125</td>\n",
       "      <td>5.6</td>\n",
       "      <td>4.0</td>\n",
       "      <td>2.50</td>\n",
       "      <td>1</td>\n",
       "      <td>2.50</td>\n",
       "    </tr>\n",
       "    <tr>\n",
       "      <th>574</th>\n",
       "      <td>1</td>\n",
       "      <td>32</td>\n",
       "      <td>12.1</td>\n",
       "      <td>6.0</td>\n",
       "      <td>515</td>\n",
       "      <td>48</td>\n",
       "      <td>92</td>\n",
       "      <td>6.6</td>\n",
       "      <td>2.4</td>\n",
       "      <td>0.50</td>\n",
       "      <td>1</td>\n",
       "      <td>0.50</td>\n",
       "    </tr>\n",
       "    <tr>\n",
       "      <th>575</th>\n",
       "      <td>1</td>\n",
       "      <td>32</td>\n",
       "      <td>25.0</td>\n",
       "      <td>13.7</td>\n",
       "      <td>560</td>\n",
       "      <td>41</td>\n",
       "      <td>88</td>\n",
       "      <td>7.9</td>\n",
       "      <td>2.5</td>\n",
       "      <td>2.50</td>\n",
       "      <td>1</td>\n",
       "      <td>2.50</td>\n",
       "    </tr>\n",
       "    <tr>\n",
       "      <th>576</th>\n",
       "      <td>1</td>\n",
       "      <td>32</td>\n",
       "      <td>15.0</td>\n",
       "      <td>8.2</td>\n",
       "      <td>289</td>\n",
       "      <td>58</td>\n",
       "      <td>80</td>\n",
       "      <td>5.3</td>\n",
       "      <td>2.2</td>\n",
       "      <td>0.70</td>\n",
       "      <td>1</td>\n",
       "      <td>0.70</td>\n",
       "    </tr>\n",
       "    <tr>\n",
       "      <th>577</th>\n",
       "      <td>1</td>\n",
       "      <td>32</td>\n",
       "      <td>12.7</td>\n",
       "      <td>8.4</td>\n",
       "      <td>190</td>\n",
       "      <td>28</td>\n",
       "      <td>47</td>\n",
       "      <td>5.4</td>\n",
       "      <td>2.6</td>\n",
       "      <td>0.90</td>\n",
       "      <td>1</td>\n",
       "      <td>0.90</td>\n",
       "    </tr>\n",
       "  </tbody>\n",
       "</table>\n",
       "<p>83 rows × 12 columns</p>\n",
       "</div>"
      ],
      "text/plain": [
       "     Male  Age_of_patient  Total Bilirubin  Direct Bilirubin  \\\n",
       "1       1              62             10.9               5.5   \n",
       "2       1              62              7.3               4.1   \n",
       "22      1              62              6.8               3.0   \n",
       "27      1              34              6.2               3.0   \n",
       "37      0              46             14.2               7.8   \n",
       "..    ...             ...              ...               ...   \n",
       "572     1              32             15.6               9.5   \n",
       "574     1              32             12.1               6.0   \n",
       "575     1              32             25.0              13.7   \n",
       "576     1              32             15.0               8.2   \n",
       "577     1              32             12.7               8.4   \n",
       "\n",
       "     Alkaline Phosphotase  Alamine Aminotransferase  \\\n",
       "1                     699                        64   \n",
       "2                     490                        60   \n",
       "22                    542                       116   \n",
       "27                    240                      1680   \n",
       "37                    374                        38   \n",
       "..                    ...                       ...   \n",
       "572                   134                        54   \n",
       "574                   515                        48   \n",
       "575                   560                        41   \n",
       "576                   289                        58   \n",
       "577                   190                        28   \n",
       "\n",
       "     Aspartate Aminotransferase  Total Protiens  Albumin  \\\n",
       "1                           100             7.5      3.2   \n",
       "2                            68             7.0      3.3   \n",
       "22                           66             6.4      3.1   \n",
       "27                          850             7.2      4.0   \n",
       "37                           77             4.3      2.0   \n",
       "..                          ...             ...      ...   \n",
       "572                         125             5.6      4.0   \n",
       "574                          92             6.6      2.4   \n",
       "575                          88             7.9      2.5   \n",
       "576                          80             5.3      2.2   \n",
       "577                          47             5.4      2.6   \n",
       "\n",
       "     Albumin_Globulin_Ratio  Target  Albumin_Globulin_Ratio_median  \n",
       "1                      0.74       1                           0.74  \n",
       "2                      0.89       1                           0.89  \n",
       "22                     0.90       1                           0.90  \n",
       "27                     1.20       1                           1.20  \n",
       "37                     0.80       1                           0.80  \n",
       "..                      ...     ...                            ...  \n",
       "572                    2.50       1                           2.50  \n",
       "574                    0.50       1                           0.50  \n",
       "575                    2.50       1                           2.50  \n",
       "576                    0.70       1                           0.70  \n",
       "577                    0.90       1                           0.90  \n",
       "\n",
       "[83 rows x 12 columns]"
      ]
     },
     "execution_count": 38,
     "metadata": {},
     "output_type": "execute_result"
    }
   ],
   "source": [
    "data.loc[data['Total Bilirubin']>upper_bridge]"
   ]
  },
  {
   "cell_type": "markdown",
   "id": "2001ac79",
   "metadata": {},
   "source": [
    "### 3.Direct Bilirubin"
   ]
  },
  {
   "cell_type": "code",
   "execution_count": 39,
   "id": "fefc6c60",
   "metadata": {},
   "outputs": [],
   "source": [
    "#### Lets compute the Interquantile range to calculate the boundaries\n",
    "IQR=data['Direct Bilirubin'].quantile(0.75)-data['Direct Bilirubin'].quantile(0.25)"
   ]
  },
  {
   "cell_type": "code",
   "execution_count": 40,
   "id": "da3ed2bd",
   "metadata": {},
   "outputs": [
    {
     "name": "stdout",
     "output_type": "stream",
     "text": [
      "-1.4500000000000002\n",
      "2.95\n"
     ]
    },
    {
     "data": {
      "text/plain": [
       "(None, None)"
      ]
     },
     "execution_count": 40,
     "metadata": {},
     "output_type": "execute_result"
    }
   ],
   "source": [
    "lower_bridge=data['Direct Bilirubin'].quantile(0.25)-(IQR*1.5)\n",
    "upper_bridge=data['Direct Bilirubin'].quantile(0.75)+(IQR*1.5)\n",
    "print(lower_bridge), print(upper_bridge)"
   ]
  },
  {
   "cell_type": "code",
   "execution_count": 41,
   "id": "34a7f818",
   "metadata": {},
   "outputs": [],
   "source": [
    "#### Lets compute the Interquantile range to calculate the boundaries\n",
    "IQR=data['Alkaline Phosphotase'].quantile(0.75)-data['Alkaline Phosphotase'].quantile(0.25)"
   ]
  },
  {
   "cell_type": "code",
   "execution_count": 42,
   "id": "acd11bca",
   "metadata": {},
   "outputs": [
    {
     "name": "stdout",
     "output_type": "stream",
     "text": [
      "-7.0\n",
      "481.0\n"
     ]
    },
    {
     "data": {
      "text/plain": [
       "(None, None)"
      ]
     },
     "execution_count": 42,
     "metadata": {},
     "output_type": "execute_result"
    }
   ],
   "source": [
    "lower_bridge=data['Alkaline Phosphotase'].quantile(0.25)-(IQR*1.5)\n",
    "upper_bridge=data['Alkaline Phosphotase'].quantile(0.75)+(IQR*1.5)\n",
    "print(lower_bridge), print(upper_bridge)"
   ]
  },
  {
   "cell_type": "code",
   "execution_count": 43,
   "id": "7a820062",
   "metadata": {},
   "outputs": [],
   "source": [
    "#### Lets compute the Interquantile range to calculate the boundaries\n",
    "IQR=data['Alamine Aminotransferase'].quantile(0.75)-data['Alamine Aminotransferase'].quantile(0.25)"
   ]
  },
  {
   "cell_type": "code",
   "execution_count": 44,
   "id": "4c6b80fb",
   "metadata": {},
   "outputs": [
    {
     "name": "stdout",
     "output_type": "stream",
     "text": [
      "-32.5\n",
      "115.5\n"
     ]
    },
    {
     "data": {
      "text/plain": [
       "(None, None)"
      ]
     },
     "execution_count": 44,
     "metadata": {},
     "output_type": "execute_result"
    }
   ],
   "source": [
    "lower_bridge=data['Alamine Aminotransferase'].quantile(0.25)-(IQR*1.5)\n",
    "upper_bridge=data['Alamine Aminotransferase'].quantile(0.75)+(IQR*1.5)\n",
    "print(lower_bridge), print(upper_bridge)"
   ]
  },
  {
   "cell_type": "code",
   "execution_count": 45,
   "id": "3bf06773",
   "metadata": {},
   "outputs": [],
   "source": [
    "#### Lets compute the Interquantile range to calculate the boundaries\n",
    "IQR=data['Aspartate Aminotransferase'].quantile(0.75)-data['Aspartate Aminotransferase'].quantile(0.25)"
   ]
  },
  {
   "cell_type": "code",
   "execution_count": 46,
   "id": "def75570",
   "metadata": {},
   "outputs": [
    {
     "name": "stdout",
     "output_type": "stream",
     "text": [
      "-67.625\n",
      "179.375\n"
     ]
    },
    {
     "data": {
      "text/plain": [
       "(None, None)"
      ]
     },
     "execution_count": 46,
     "metadata": {},
     "output_type": "execute_result"
    }
   ],
   "source": [
    "lower_bridge=data['Aspartate Aminotransferase'].quantile(0.25)-(IQR*1.5)\n",
    "upper_bridge=data['Aspartate Aminotransferase'].quantile(0.75)+(IQR*1.5)\n",
    "print(lower_bridge), print(upper_bridge)"
   ]
  },
  {
   "cell_type": "code",
   "execution_count": 47,
   "id": "2dcd0274",
   "metadata": {},
   "outputs": [
    {
     "name": "stdout",
     "output_type": "stream",
     "text": [
      "3.2314147412227516\n",
      "9.761216837724618\n",
      "6.496315789473685\n"
     ]
    },
    {
     "data": {
      "text/plain": [
       "(None, None, None)"
      ]
     },
     "execution_count": 47,
     "metadata": {},
     "output_type": "execute_result"
    }
   ],
   "source": [
    "##### Assuming Age follows A Gaussian Distribution we will calculate the boundaries which differentiates the outliers\n",
    "#If The Data Is Normally Distributed We use this\n",
    "uppper_boundary=data['Total Protiens'].mean() + 3* data['Total Protiens'].std()\n",
    "lower_boundary=data['Total Protiens'].mean() - 3* data['Total Protiens'].std()\n",
    "print(lower_boundary), print(uppper_boundary),print(data['Total Protiens'].mean())"
   ]
  },
  {
   "cell_type": "code",
   "execution_count": 48,
   "id": "97eee96d",
   "metadata": {},
   "outputs": [
    {
     "name": "stdout",
     "output_type": "stream",
     "text": [
      "0.758508256246285\n",
      "5.539386480595821\n",
      "3.148947368421053\n"
     ]
    },
    {
     "data": {
      "text/plain": [
       "(None, None, None)"
      ]
     },
     "execution_count": 48,
     "metadata": {},
     "output_type": "execute_result"
    }
   ],
   "source": [
    "##### Assuming Age follows A Gaussian Distribution we will calculate the boundaries which differentiates the outliers\n",
    "#If The Data Is Normally Distributed We use this\n",
    "\n",
    "uppper_boundary=data['Albumin'].mean() + 3* data['Albumin'].std()\n",
    "lower_boundary=data['Albumin'].mean() - 3* data['Albumin'].std()\n",
    "print(lower_boundary), print(uppper_boundary),print(data['Albumin'].mean())"
   ]
  },
  {
   "cell_type": "code",
   "execution_count": 49,
   "id": "7355ab5d",
   "metadata": {},
   "outputs": [
    {
     "name": "stdout",
     "output_type": "stream",
     "text": [
      "-0.007512414654850863\n",
      "1.9035475023741488\n",
      "0.948017543859649\n"
     ]
    },
    {
     "data": {
      "text/plain": [
       "(None, None, None)"
      ]
     },
     "execution_count": 49,
     "metadata": {},
     "output_type": "execute_result"
    }
   ],
   "source": [
    "##### Assuming Age follows A Gaussian Distribution we will calculate the boundaries which differentiates the outliers\n",
    "#If The Data Is Normally Distributed We use this\n",
    "\n",
    "uppper_boundary=data['Albumin_Globulin_Ratio_median'].mean() + 3* data['Albumin_Globulin_Ratio_median'].std()\n",
    "lower_boundary=data['Albumin_Globulin_Ratio_median'].mean() - 3* data['Albumin_Globulin_Ratio_median'].std()\n",
    "print(lower_boundary), print(uppper_boundary),print(data['Albumin_Globulin_Ratio_median'].mean())"
   ]
  },
  {
   "cell_type": "code",
   "execution_count": 50,
   "id": "fcb00163",
   "metadata": {},
   "outputs": [],
   "source": [
    "data1=data.copy()"
   ]
  },
  {
   "cell_type": "code",
   "execution_count": 51,
   "id": "a0dc2051",
   "metadata": {},
   "outputs": [
    {
     "data": {
      "text/plain": [
       "Index(['Male', 'Age_of_patient', 'Total Bilirubin', 'Direct Bilirubin',\n",
       "       'Alkaline Phosphotase', 'Alamine Aminotransferase',\n",
       "       'Aspartate Aminotransferase', 'Total Protiens', 'Albumin',\n",
       "       'Albumin_Globulin_Ratio', 'Target', 'Albumin_Globulin_Ratio_median'],\n",
       "      dtype='object')"
      ]
     },
     "execution_count": 51,
     "metadata": {},
     "output_type": "execute_result"
    }
   ],
   "source": [
    "data.columns"
   ]
  },
  {
   "cell_type": "code",
   "execution_count": 52,
   "id": "a23b80cc",
   "metadata": {},
   "outputs": [],
   "source": [
    "data1.loc[data1['Age_of_patient']>=93,'Age_of_patient']=93\n",
    "data1.loc[data1['Total Bilirubin']>=5.3,'Total Bilirubin']=5.3\n",
    "data1.loc[data1['Alkaline Phosphotase']>=481.75,'Alkaline Phosphotase']=481.75\n",
    "data1.loc[data1['Direct Bilirubin']>=4.0,'Direct Bilirubin']=4.0\n",
    "data1.loc[data1['Alamine Aminotransferase']>=115.5,'Alamine Aminotransferase']=115\n",
    "data1.loc[data1['Aspartate Aminotransferase']>=179,'Aspartate Aminotransferase']=179\n",
    "data1.loc[data1['Total Protiens']>=9.7,'Total Protiens']=9.7\n",
    "data1.loc[data1['Total Protiens']<=3.2,'Total Protiens']=3.2\n",
    "data1.loc[data1['Albumin']>=5.5,'Albumin']=5.5\n",
    "data1.loc[data1['Albumin']<=0.7,'Albumin']=0.7\n",
    "data1.loc[data1['Albumin_Globulin_Ratio_median']>=1,'Albumin_Globulin_Ratio_median']=1\n"
   ]
  },
  {
   "cell_type": "markdown",
   "id": "02b23531",
   "metadata": {},
   "source": [
    "### Statistical representation of data before removing outliers."
   ]
  },
  {
   "cell_type": "code",
   "execution_count": 53,
   "id": "c9195a2d",
   "metadata": {
    "scrolled": true
   },
   "outputs": [
    {
     "data": {
      "text/plain": [
       "<matplotlib.axes._subplots.AxesSubplot at 0x1d4edaeb5b0>"
      ]
     },
     "execution_count": 53,
     "metadata": {},
     "output_type": "execute_result"
    },
    {
     "data": {
      "image/png": "[encoded data removed]",
      "text/plain": [
       "<Figure size 1080x1440 with 1 Axes>"
      ]
     },
     "metadata": {
      "needs_background": "light"
     },
     "output_type": "display_data"
    }
   ],
   "source": [
    "fig ,ax  = plt.subplots(figsize = (15,20))\n",
    "sns.boxplot(data = data , ax = ax,orient='h')"
   ]
  },
  {
   "cell_type": "code",
   "execution_count": 181,
   "id": "456f8e66",
   "metadata": {},
   "outputs": [
    {
     "data": {
      "text/html": [
       "<div>\n",
       "<style scoped>\n",
       "    .dataframe tbody tr th:only-of-type {\n",
       "        vertical-align: middle;\n",
       "    }\n",
       "\n",
       "    .dataframe tbody tr th {\n",
       "        vertical-align: top;\n",
       "    }\n",
       "\n",
       "    .dataframe thead th {\n",
       "        text-align: right;\n",
       "    }\n",
       "</style>\n",
       "<table border=\"1\" class=\"dataframe\">\n",
       "  <thead>\n",
       "    <tr style=\"text-align: right;\">\n",
       "      <th></th>\n",
       "      <th>Male</th>\n",
       "      <th>Age_of_patient</th>\n",
       "      <th>Total Bilirubin</th>\n",
       "      <th>Direct Bilirubin</th>\n",
       "      <th>Alkaline Phosphotase</th>\n",
       "      <th>Alamine Aminotransferase</th>\n",
       "      <th>Aspartate Aminotransferase</th>\n",
       "      <th>Total Protiens</th>\n",
       "      <th>Albumin</th>\n",
       "      <th>Albumin_Globulin_Ratio</th>\n",
       "      <th>Target</th>\n",
       "      <th>Albumin_Globulin_Ratio_median</th>\n",
       "    </tr>\n",
       "  </thead>\n",
       "  <tbody>\n",
       "    <tr>\n",
       "      <th>0</th>\n",
       "      <td>0</td>\n",
       "      <td>65</td>\n",
       "      <td>0.7</td>\n",
       "      <td>0.1</td>\n",
       "      <td>187</td>\n",
       "      <td>16</td>\n",
       "      <td>18</td>\n",
       "      <td>6.8</td>\n",
       "      <td>3.3</td>\n",
       "      <td>0.90</td>\n",
       "      <td>1</td>\n",
       "      <td>0.90</td>\n",
       "    </tr>\n",
       "    <tr>\n",
       "      <th>1</th>\n",
       "      <td>1</td>\n",
       "      <td>62</td>\n",
       "      <td>10.9</td>\n",
       "      <td>5.5</td>\n",
       "      <td>699</td>\n",
       "      <td>64</td>\n",
       "      <td>100</td>\n",
       "      <td>7.5</td>\n",
       "      <td>3.2</td>\n",
       "      <td>0.74</td>\n",
       "      <td>1</td>\n",
       "      <td>0.74</td>\n",
       "    </tr>\n",
       "    <tr>\n",
       "      <th>2</th>\n",
       "      <td>1</td>\n",
       "      <td>62</td>\n",
       "      <td>7.3</td>\n",
       "      <td>4.1</td>\n",
       "      <td>490</td>\n",
       "      <td>60</td>\n",
       "      <td>68</td>\n",
       "      <td>7.0</td>\n",
       "      <td>3.3</td>\n",
       "      <td>0.89</td>\n",
       "      <td>1</td>\n",
       "      <td>0.89</td>\n",
       "    </tr>\n",
       "    <tr>\n",
       "      <th>3</th>\n",
       "      <td>1</td>\n",
       "      <td>58</td>\n",
       "      <td>1.0</td>\n",
       "      <td>0.4</td>\n",
       "      <td>182</td>\n",
       "      <td>14</td>\n",
       "      <td>20</td>\n",
       "      <td>6.8</td>\n",
       "      <td>3.4</td>\n",
       "      <td>1.00</td>\n",
       "      <td>1</td>\n",
       "      <td>1.00</td>\n",
       "    </tr>\n",
       "    <tr>\n",
       "      <th>4</th>\n",
       "      <td>1</td>\n",
       "      <td>72</td>\n",
       "      <td>3.9</td>\n",
       "      <td>2.0</td>\n",
       "      <td>195</td>\n",
       "      <td>27</td>\n",
       "      <td>59</td>\n",
       "      <td>7.3</td>\n",
       "      <td>2.4</td>\n",
       "      <td>0.40</td>\n",
       "      <td>1</td>\n",
       "      <td>0.40</td>\n",
       "    </tr>\n",
       "  </tbody>\n",
       "</table>\n",
       "</div>"
      ],
      "text/plain": [
       "   Male  Age_of_patient  Total Bilirubin  Direct Bilirubin  \\\n",
       "0     0              65              0.7               0.1   \n",
       "1     1              62             10.9               5.5   \n",
       "2     1              62              7.3               4.1   \n",
       "3     1              58              1.0               0.4   \n",
       "4     1              72              3.9               2.0   \n",
       "\n",
       "   Alkaline Phosphotase  Alamine Aminotransferase  Aspartate Aminotransferase  \\\n",
       "0                   187                        16                          18   \n",
       "1                   699                        64                         100   \n",
       "2                   490                        60                          68   \n",
       "3                   182                        14                          20   \n",
       "4                   195                        27                          59   \n",
       "\n",
       "   Total Protiens  Albumin  Albumin_Globulin_Ratio  Target  \\\n",
       "0             6.8      3.3                    0.90       1   \n",
       "1             7.5      3.2                    0.74       1   \n",
       "2             7.0      3.3                    0.89       1   \n",
       "3             6.8      3.4                    1.00       1   \n",
       "4             7.3      2.4                    0.40       1   \n",
       "\n",
       "   Albumin_Globulin_Ratio_median  \n",
       "0                           0.90  \n",
       "1                           0.74  \n",
       "2                           0.89  \n",
       "3                           1.00  \n",
       "4                           0.40  "
      ]
     },
     "execution_count": 181,
     "metadata": {},
     "output_type": "execute_result"
    }
   ],
   "source": [
    "data.head()"
   ]
  },
  {
   "cell_type": "markdown",
   "id": "7f3939c0",
   "metadata": {},
   "source": [
    "### Statistical representation of data after removing outliers."
   ]
  },
  {
   "cell_type": "code",
   "execution_count": 54,
   "id": "7ae36feb",
   "metadata": {},
   "outputs": [
    {
     "data": {
      "text/plain": [
       "<matplotlib.axes._subplots.AxesSubplot at 0x1d4eeae88b0>"
      ]
     },
     "execution_count": 54,
     "metadata": {},
     "output_type": "execute_result"
    },
    {
     "data": {
      "image/png": "[encoded data removed]",
      "text/plain": [
       "<Figure size 1080x1440 with 1 Axes>"
      ]
     },
     "metadata": {
      "needs_background": "light"
     },
     "output_type": "display_data"
    }
   ],
   "source": [
    "fig ,ax  = plt.subplots(figsize = (15,20))\n",
    "sns.boxplot(data = data1 , ax = ax,orient='h')"
   ]
  },
  {
   "cell_type": "markdown",
   "id": "f5ebb03e",
   "metadata": {},
   "source": [
    "### Feature selection"
   ]
  },
  {
   "cell_type": "code",
   "execution_count": 183,
   "id": "ac234e17",
   "metadata": {},
   "outputs": [
    {
     "data": {
      "text/html": [
       "<div>\n",
       "<style scoped>\n",
       "    .dataframe tbody tr th:only-of-type {\n",
       "        vertical-align: middle;\n",
       "    }\n",
       "\n",
       "    .dataframe tbody tr th {\n",
       "        vertical-align: top;\n",
       "    }\n",
       "\n",
       "    .dataframe thead th {\n",
       "        text-align: right;\n",
       "    }\n",
       "</style>\n",
       "<table border=\"1\" class=\"dataframe\">\n",
       "  <thead>\n",
       "    <tr style=\"text-align: right;\">\n",
       "      <th></th>\n",
       "      <th>Male</th>\n",
       "      <th>Age_of_patient</th>\n",
       "      <th>Total Bilirubin</th>\n",
       "      <th>Direct Bilirubin</th>\n",
       "      <th>Alkaline Phosphotase</th>\n",
       "      <th>Alamine Aminotransferase</th>\n",
       "      <th>Aspartate Aminotransferase</th>\n",
       "      <th>Total Protiens</th>\n",
       "      <th>Albumin</th>\n",
       "      <th>Albumin_Globulin_Ratio</th>\n",
       "      <th>Target</th>\n",
       "      <th>Albumin_Globulin_Ratio_median</th>\n",
       "    </tr>\n",
       "  </thead>\n",
       "  <tbody>\n",
       "    <tr>\n",
       "      <th>Male</th>\n",
       "      <td>1.000000</td>\n",
       "      <td>0.058237</td>\n",
       "      <td>0.178653</td>\n",
       "      <td>0.161503</td>\n",
       "      <td>0.052968</td>\n",
       "      <td>0.160691</td>\n",
       "      <td>0.164782</td>\n",
       "      <td>-0.085372</td>\n",
       "      <td>-0.091369</td>\n",
       "      <td>-0.005611</td>\n",
       "      <td>-0.078501</td>\n",
       "      <td>-0.042187</td>\n",
       "    </tr>\n",
       "    <tr>\n",
       "      <th>Age_of_patient</th>\n",
       "      <td>0.058237</td>\n",
       "      <td>1.000000</td>\n",
       "      <td>0.102560</td>\n",
       "      <td>0.084035</td>\n",
       "      <td>0.042275</td>\n",
       "      <td>-0.064569</td>\n",
       "      <td>-0.027094</td>\n",
       "      <td>-0.196831</td>\n",
       "      <td>-0.271170</td>\n",
       "      <td>-0.215967</td>\n",
       "      <td>-0.138093</td>\n",
       "      <td>-0.244166</td>\n",
       "    </tr>\n",
       "    <tr>\n",
       "      <th>Total Bilirubin</th>\n",
       "      <td>0.178653</td>\n",
       "      <td>0.102560</td>\n",
       "      <td>1.000000</td>\n",
       "      <td>0.963569</td>\n",
       "      <td>0.362891</td>\n",
       "      <td>0.446811</td>\n",
       "      <td>0.540683</td>\n",
       "      <td>-0.070600</td>\n",
       "      <td>-0.305188</td>\n",
       "      <td>-0.278453</td>\n",
       "      <td>-0.320651</td>\n",
       "      <td>-0.401670</td>\n",
       "    </tr>\n",
       "    <tr>\n",
       "      <th>Direct Bilirubin</th>\n",
       "      <td>0.161503</td>\n",
       "      <td>0.084035</td>\n",
       "      <td>0.963569</td>\n",
       "      <td>1.000000</td>\n",
       "      <td>0.365158</td>\n",
       "      <td>0.420040</td>\n",
       "      <td>0.526415</td>\n",
       "      <td>-0.048259</td>\n",
       "      <td>-0.288908</td>\n",
       "      <td>-0.268203</td>\n",
       "      <td>-0.311795</td>\n",
       "      <td>-0.393987</td>\n",
       "    </tr>\n",
       "    <tr>\n",
       "      <th>Alkaline Phosphotase</th>\n",
       "      <td>0.052968</td>\n",
       "      <td>0.042275</td>\n",
       "      <td>0.362891</td>\n",
       "      <td>0.365158</td>\n",
       "      <td>1.000000</td>\n",
       "      <td>0.380324</td>\n",
       "      <td>0.301938</td>\n",
       "      <td>0.009196</td>\n",
       "      <td>-0.173848</td>\n",
       "      <td>-0.281590</td>\n",
       "      <td>-0.241427</td>\n",
       "      <td>-0.301247</td>\n",
       "    </tr>\n",
       "    <tr>\n",
       "      <th>Alamine Aminotransferase</th>\n",
       "      <td>0.160691</td>\n",
       "      <td>-0.064569</td>\n",
       "      <td>0.446811</td>\n",
       "      <td>0.420040</td>\n",
       "      <td>0.380324</td>\n",
       "      <td>1.000000</td>\n",
       "      <td>0.782423</td>\n",
       "      <td>0.015647</td>\n",
       "      <td>-0.034662</td>\n",
       "      <td>-0.079335</td>\n",
       "      <td>-0.287789</td>\n",
       "      <td>-0.075368</td>\n",
       "    </tr>\n",
       "    <tr>\n",
       "      <th>Aspartate Aminotransferase</th>\n",
       "      <td>0.164782</td>\n",
       "      <td>-0.027094</td>\n",
       "      <td>0.540683</td>\n",
       "      <td>0.526415</td>\n",
       "      <td>0.301938</td>\n",
       "      <td>0.782423</td>\n",
       "      <td>1.000000</td>\n",
       "      <td>-0.032443</td>\n",
       "      <td>-0.160192</td>\n",
       "      <td>-0.136462</td>\n",
       "      <td>-0.297159</td>\n",
       "      <td>-0.218972</td>\n",
       "    </tr>\n",
       "    <tr>\n",
       "      <th>Total Protiens</th>\n",
       "      <td>-0.085372</td>\n",
       "      <td>-0.196831</td>\n",
       "      <td>-0.070600</td>\n",
       "      <td>-0.048259</td>\n",
       "      <td>0.009196</td>\n",
       "      <td>0.015647</td>\n",
       "      <td>-0.032443</td>\n",
       "      <td>1.000000</td>\n",
       "      <td>0.785028</td>\n",
       "      <td>0.235566</td>\n",
       "      <td>0.036878</td>\n",
       "      <td>0.278064</td>\n",
       "    </tr>\n",
       "    <tr>\n",
       "      <th>Albumin</th>\n",
       "      <td>-0.091369</td>\n",
       "      <td>-0.271170</td>\n",
       "      <td>-0.305188</td>\n",
       "      <td>-0.288908</td>\n",
       "      <td>-0.173848</td>\n",
       "      <td>-0.034662</td>\n",
       "      <td>-0.160192</td>\n",
       "      <td>0.785028</td>\n",
       "      <td>1.000000</td>\n",
       "      <td>0.687438</td>\n",
       "      <td>0.166835</td>\n",
       "      <td>0.734764</td>\n",
       "    </tr>\n",
       "    <tr>\n",
       "      <th>Albumin_Globulin_Ratio</th>\n",
       "      <td>-0.005611</td>\n",
       "      <td>-0.215967</td>\n",
       "      <td>-0.278453</td>\n",
       "      <td>-0.268203</td>\n",
       "      <td>-0.281590</td>\n",
       "      <td>-0.079335</td>\n",
       "      <td>-0.136462</td>\n",
       "      <td>0.235566</td>\n",
       "      <td>0.687438</td>\n",
       "      <td>1.000000</td>\n",
       "      <td>0.171402</td>\n",
       "      <td>0.811023</td>\n",
       "    </tr>\n",
       "    <tr>\n",
       "      <th>Target</th>\n",
       "      <td>-0.078501</td>\n",
       "      <td>-0.138093</td>\n",
       "      <td>-0.320651</td>\n",
       "      <td>-0.311795</td>\n",
       "      <td>-0.241427</td>\n",
       "      <td>-0.287789</td>\n",
       "      <td>-0.297159</td>\n",
       "      <td>0.036878</td>\n",
       "      <td>0.166835</td>\n",
       "      <td>0.171402</td>\n",
       "      <td>1.000000</td>\n",
       "      <td>0.195415</td>\n",
       "    </tr>\n",
       "    <tr>\n",
       "      <th>Albumin_Globulin_Ratio_median</th>\n",
       "      <td>-0.042187</td>\n",
       "      <td>-0.244166</td>\n",
       "      <td>-0.401670</td>\n",
       "      <td>-0.393987</td>\n",
       "      <td>-0.301247</td>\n",
       "      <td>-0.075368</td>\n",
       "      <td>-0.218972</td>\n",
       "      <td>0.278064</td>\n",
       "      <td>0.734764</td>\n",
       "      <td>0.811023</td>\n",
       "      <td>0.195415</td>\n",
       "      <td>1.000000</td>\n",
       "    </tr>\n",
       "  </tbody>\n",
       "</table>\n",
       "</div>"
      ],
      "text/plain": [
       "                                   Male  Age_of_patient  Total Bilirubin  \\\n",
       "Male                           1.000000        0.058237         0.178653   \n",
       "Age_of_patient                 0.058237        1.000000         0.102560   \n",
       "Total Bilirubin                0.178653        0.102560         1.000000   \n",
       "Direct Bilirubin               0.161503        0.084035         0.963569   \n",
       "Alkaline Phosphotase           0.052968        0.042275         0.362891   \n",
       "Alamine Aminotransferase       0.160691       -0.064569         0.446811   \n",
       "Aspartate Aminotransferase     0.164782       -0.027094         0.540683   \n",
       "Total Protiens                -0.085372       -0.196831        -0.070600   \n",
       "Albumin                       -0.091369       -0.271170        -0.305188   \n",
       "Albumin_Globulin_Ratio        -0.005611       -0.215967        -0.278453   \n",
       "Target                        -0.078501       -0.138093        -0.320651   \n",
       "Albumin_Globulin_Ratio_median -0.042187       -0.244166        -0.401670   \n",
       "\n",
       "                               Direct Bilirubin  Alkaline Phosphotase  \\\n",
       "Male                                   0.161503              0.052968   \n",
       "Age_of_patient                         0.084035              0.042275   \n",
       "Total Bilirubin                        0.963569              0.362891   \n",
       "Direct Bilirubin                       1.000000              0.365158   \n",
       "Alkaline Phosphotase                   0.365158              1.000000   \n",
       "Alamine Aminotransferase               0.420040              0.380324   \n",
       "Aspartate Aminotransferase             0.526415              0.301938   \n",
       "Total Protiens                        -0.048259              0.009196   \n",
       "Albumin                               -0.288908             -0.173848   \n",
       "Albumin_Globulin_Ratio                -0.268203             -0.281590   \n",
       "Target                                -0.311795             -0.241427   \n",
       "Albumin_Globulin_Ratio_median         -0.393987             -0.301247   \n",
       "\n",
       "                               Alamine Aminotransferase  \\\n",
       "Male                                           0.160691   \n",
       "Age_of_patient                                -0.064569   \n",
       "Total Bilirubin                                0.446811   \n",
       "Direct Bilirubin                               0.420040   \n",
       "Alkaline Phosphotase                           0.380324   \n",
       "Alamine Aminotransferase                       1.000000   \n",
       "Aspartate Aminotransferase                     0.782423   \n",
       "Total Protiens                                 0.015647   \n",
       "Albumin                                       -0.034662   \n",
       "Albumin_Globulin_Ratio                        -0.079335   \n",
       "Target                                        -0.287789   \n",
       "Albumin_Globulin_Ratio_median                 -0.075368   \n",
       "\n",
       "                               Aspartate Aminotransferase  Total Protiens  \\\n",
       "Male                                             0.164782       -0.085372   \n",
       "Age_of_patient                                  -0.027094       -0.196831   \n",
       "Total Bilirubin                                  0.540683       -0.070600   \n",
       "Direct Bilirubin                                 0.526415       -0.048259   \n",
       "Alkaline Phosphotase                             0.301938        0.009196   \n",
       "Alamine Aminotransferase                         0.782423        0.015647   \n",
       "Aspartate Aminotransferase                       1.000000       -0.032443   \n",
       "Total Protiens                                  -0.032443        1.000000   \n",
       "Albumin                                         -0.160192        0.785028   \n",
       "Albumin_Globulin_Ratio                          -0.136462        0.235566   \n",
       "Target                                          -0.297159        0.036878   \n",
       "Albumin_Globulin_Ratio_median                   -0.218972        0.278064   \n",
       "\n",
       "                                Albumin  Albumin_Globulin_Ratio    Target  \\\n",
       "Male                          -0.091369               -0.005611 -0.078501   \n",
       "Age_of_patient                -0.271170               -0.215967 -0.138093   \n",
       "Total Bilirubin               -0.305188               -0.278453 -0.320651   \n",
       "Direct Bilirubin              -0.288908               -0.268203 -0.311795   \n",
       "Alkaline Phosphotase          -0.173848               -0.281590 -0.241427   \n",
       "Alamine Aminotransferase      -0.034662               -0.079335 -0.287789   \n",
       "Aspartate Aminotransferase    -0.160192               -0.136462 -0.297159   \n",
       "Total Protiens                 0.785028                0.235566  0.036878   \n",
       "Albumin                        1.000000                0.687438  0.166835   \n",
       "Albumin_Globulin_Ratio         0.687438                1.000000  0.171402   \n",
       "Target                         0.166835                0.171402  1.000000   \n",
       "Albumin_Globulin_Ratio_median  0.734764                0.811023  0.195415   \n",
       "\n",
       "                               Albumin_Globulin_Ratio_median  \n",
       "Male                                               -0.042187  \n",
       "Age_of_patient                                     -0.244166  \n",
       "Total Bilirubin                                    -0.401670  \n",
       "Direct Bilirubin                                   -0.393987  \n",
       "Alkaline Phosphotase                               -0.301247  \n",
       "Alamine Aminotransferase                           -0.075368  \n",
       "Aspartate Aminotransferase                         -0.218972  \n",
       "Total Protiens                                      0.278064  \n",
       "Albumin                                             0.734764  \n",
       "Albumin_Globulin_Ratio                              0.811023  \n",
       "Target                                              0.195415  \n",
       "Albumin_Globulin_Ratio_median                       1.000000  "
      ]
     },
     "execution_count": 183,
     "metadata": {},
     "output_type": "execute_result"
    }
   ],
   "source": [
    "data1.corr()"
   ]
  },
  {
   "cell_type": "code",
   "execution_count": 184,
   "id": "4294f447",
   "metadata": {},
   "outputs": [
    {
     "data": {
      "text/html": [
       "<div>\n",
       "<style scoped>\n",
       "    .dataframe tbody tr th:only-of-type {\n",
       "        vertical-align: middle;\n",
       "    }\n",
       "\n",
       "    .dataframe tbody tr th {\n",
       "        vertical-align: top;\n",
       "    }\n",
       "\n",
       "    .dataframe thead th {\n",
       "        text-align: right;\n",
       "    }\n",
       "</style>\n",
       "<table border=\"1\" class=\"dataframe\">\n",
       "  <thead>\n",
       "    <tr style=\"text-align: right;\">\n",
       "      <th></th>\n",
       "      <th>Male</th>\n",
       "      <th>Age_of_patient</th>\n",
       "      <th>Total Bilirubin</th>\n",
       "      <th>Direct Bilirubin</th>\n",
       "      <th>Alkaline Phosphotase</th>\n",
       "      <th>Alamine Aminotransferase</th>\n",
       "      <th>Aspartate Aminotransferase</th>\n",
       "      <th>Total Protiens</th>\n",
       "      <th>Albumin</th>\n",
       "      <th>Albumin_Globulin_Ratio</th>\n",
       "      <th>Albumin_Globulin_Ratio_median</th>\n",
       "    </tr>\n",
       "  </thead>\n",
       "  <tbody>\n",
       "    <tr>\n",
       "      <th>Male</th>\n",
       "      <td>1.000000</td>\n",
       "      <td>0.058237</td>\n",
       "      <td>0.178653</td>\n",
       "      <td>0.161503</td>\n",
       "      <td>0.052968</td>\n",
       "      <td>0.160691</td>\n",
       "      <td>0.164782</td>\n",
       "      <td>-0.085372</td>\n",
       "      <td>-0.091369</td>\n",
       "      <td>-0.005611</td>\n",
       "      <td>-0.042187</td>\n",
       "    </tr>\n",
       "    <tr>\n",
       "      <th>Age_of_patient</th>\n",
       "      <td>0.058237</td>\n",
       "      <td>1.000000</td>\n",
       "      <td>0.102560</td>\n",
       "      <td>0.084035</td>\n",
       "      <td>0.042275</td>\n",
       "      <td>-0.064569</td>\n",
       "      <td>-0.027094</td>\n",
       "      <td>-0.196831</td>\n",
       "      <td>-0.271170</td>\n",
       "      <td>-0.215967</td>\n",
       "      <td>-0.244166</td>\n",
       "    </tr>\n",
       "    <tr>\n",
       "      <th>Total Bilirubin</th>\n",
       "      <td>0.178653</td>\n",
       "      <td>0.102560</td>\n",
       "      <td>1.000000</td>\n",
       "      <td>0.963569</td>\n",
       "      <td>0.362891</td>\n",
       "      <td>0.446811</td>\n",
       "      <td>0.540683</td>\n",
       "      <td>-0.070600</td>\n",
       "      <td>-0.305188</td>\n",
       "      <td>-0.278453</td>\n",
       "      <td>-0.401670</td>\n",
       "    </tr>\n",
       "    <tr>\n",
       "      <th>Direct Bilirubin</th>\n",
       "      <td>0.161503</td>\n",
       "      <td>0.084035</td>\n",
       "      <td>0.963569</td>\n",
       "      <td>1.000000</td>\n",
       "      <td>0.365158</td>\n",
       "      <td>0.420040</td>\n",
       "      <td>0.526415</td>\n",
       "      <td>-0.048259</td>\n",
       "      <td>-0.288908</td>\n",
       "      <td>-0.268203</td>\n",
       "      <td>-0.393987</td>\n",
       "    </tr>\n",
       "    <tr>\n",
       "      <th>Alkaline Phosphotase</th>\n",
       "      <td>0.052968</td>\n",
       "      <td>0.042275</td>\n",
       "      <td>0.362891</td>\n",
       "      <td>0.365158</td>\n",
       "      <td>1.000000</td>\n",
       "      <td>0.380324</td>\n",
       "      <td>0.301938</td>\n",
       "      <td>0.009196</td>\n",
       "      <td>-0.173848</td>\n",
       "      <td>-0.281590</td>\n",
       "      <td>-0.301247</td>\n",
       "    </tr>\n",
       "    <tr>\n",
       "      <th>Alamine Aminotransferase</th>\n",
       "      <td>0.160691</td>\n",
       "      <td>-0.064569</td>\n",
       "      <td>0.446811</td>\n",
       "      <td>0.420040</td>\n",
       "      <td>0.380324</td>\n",
       "      <td>1.000000</td>\n",
       "      <td>0.782423</td>\n",
       "      <td>0.015647</td>\n",
       "      <td>-0.034662</td>\n",
       "      <td>-0.079335</td>\n",
       "      <td>-0.075368</td>\n",
       "    </tr>\n",
       "    <tr>\n",
       "      <th>Aspartate Aminotransferase</th>\n",
       "      <td>0.164782</td>\n",
       "      <td>-0.027094</td>\n",
       "      <td>0.540683</td>\n",
       "      <td>0.526415</td>\n",
       "      <td>0.301938</td>\n",
       "      <td>0.782423</td>\n",
       "      <td>1.000000</td>\n",
       "      <td>-0.032443</td>\n",
       "      <td>-0.160192</td>\n",
       "      <td>-0.136462</td>\n",
       "      <td>-0.218972</td>\n",
       "    </tr>\n",
       "    <tr>\n",
       "      <th>Total Protiens</th>\n",
       "      <td>-0.085372</td>\n",
       "      <td>-0.196831</td>\n",
       "      <td>-0.070600</td>\n",
       "      <td>-0.048259</td>\n",
       "      <td>0.009196</td>\n",
       "      <td>0.015647</td>\n",
       "      <td>-0.032443</td>\n",
       "      <td>1.000000</td>\n",
       "      <td>0.785028</td>\n",
       "      <td>0.235566</td>\n",
       "      <td>0.278064</td>\n",
       "    </tr>\n",
       "    <tr>\n",
       "      <th>Albumin</th>\n",
       "      <td>-0.091369</td>\n",
       "      <td>-0.271170</td>\n",
       "      <td>-0.305188</td>\n",
       "      <td>-0.288908</td>\n",
       "      <td>-0.173848</td>\n",
       "      <td>-0.034662</td>\n",
       "      <td>-0.160192</td>\n",
       "      <td>0.785028</td>\n",
       "      <td>1.000000</td>\n",
       "      <td>0.687438</td>\n",
       "      <td>0.734764</td>\n",
       "    </tr>\n",
       "    <tr>\n",
       "      <th>Albumin_Globulin_Ratio</th>\n",
       "      <td>-0.005611</td>\n",
       "      <td>-0.215967</td>\n",
       "      <td>-0.278453</td>\n",
       "      <td>-0.268203</td>\n",
       "      <td>-0.281590</td>\n",
       "      <td>-0.079335</td>\n",
       "      <td>-0.136462</td>\n",
       "      <td>0.235566</td>\n",
       "      <td>0.687438</td>\n",
       "      <td>1.000000</td>\n",
       "      <td>0.811023</td>\n",
       "    </tr>\n",
       "    <tr>\n",
       "      <th>Albumin_Globulin_Ratio_median</th>\n",
       "      <td>-0.042187</td>\n",
       "      <td>-0.244166</td>\n",
       "      <td>-0.401670</td>\n",
       "      <td>-0.393987</td>\n",
       "      <td>-0.301247</td>\n",
       "      <td>-0.075368</td>\n",
       "      <td>-0.218972</td>\n",
       "      <td>0.278064</td>\n",
       "      <td>0.734764</td>\n",
       "      <td>0.811023</td>\n",
       "      <td>1.000000</td>\n",
       "    </tr>\n",
       "  </tbody>\n",
       "</table>\n",
       "</div>"
      ],
      "text/plain": [
       "                                   Male  Age_of_patient  Total Bilirubin  \\\n",
       "Male                           1.000000        0.058237         0.178653   \n",
       "Age_of_patient                 0.058237        1.000000         0.102560   \n",
       "Total Bilirubin                0.178653        0.102560         1.000000   \n",
       "Direct Bilirubin               0.161503        0.084035         0.963569   \n",
       "Alkaline Phosphotase           0.052968        0.042275         0.362891   \n",
       "Alamine Aminotransferase       0.160691       -0.064569         0.446811   \n",
       "Aspartate Aminotransferase     0.164782       -0.027094         0.540683   \n",
       "Total Protiens                -0.085372       -0.196831        -0.070600   \n",
       "Albumin                       -0.091369       -0.271170        -0.305188   \n",
       "Albumin_Globulin_Ratio        -0.005611       -0.215967        -0.278453   \n",
       "Albumin_Globulin_Ratio_median -0.042187       -0.244166        -0.401670   \n",
       "\n",
       "                               Direct Bilirubin  Alkaline Phosphotase  \\\n",
       "Male                                   0.161503              0.052968   \n",
       "Age_of_patient                         0.084035              0.042275   \n",
       "Total Bilirubin                        0.963569              0.362891   \n",
       "Direct Bilirubin                       1.000000              0.365158   \n",
       "Alkaline Phosphotase                   0.365158              1.000000   \n",
       "Alamine Aminotransferase               0.420040              0.380324   \n",
       "Aspartate Aminotransferase             0.526415              0.301938   \n",
       "Total Protiens                        -0.048259              0.009196   \n",
       "Albumin                               -0.288908             -0.173848   \n",
       "Albumin_Globulin_Ratio                -0.268203             -0.281590   \n",
       "Albumin_Globulin_Ratio_median         -0.393987             -0.301247   \n",
       "\n",
       "                               Alamine Aminotransferase  \\\n",
       "Male                                           0.160691   \n",
       "Age_of_patient                                -0.064569   \n",
       "Total Bilirubin                                0.446811   \n",
       "Direct Bilirubin                               0.420040   \n",
       "Alkaline Phosphotase                           0.380324   \n",
       "Alamine Aminotransferase                       1.000000   \n",
       "Aspartate Aminotransferase                     0.782423   \n",
       "Total Protiens                                 0.015647   \n",
       "Albumin                                       -0.034662   \n",
       "Albumin_Globulin_Ratio                        -0.079335   \n",
       "Albumin_Globulin_Ratio_median                 -0.075368   \n",
       "\n",
       "                               Aspartate Aminotransferase  Total Protiens  \\\n",
       "Male                                             0.164782       -0.085372   \n",
       "Age_of_patient                                  -0.027094       -0.196831   \n",
       "Total Bilirubin                                  0.540683       -0.070600   \n",
       "Direct Bilirubin                                 0.526415       -0.048259   \n",
       "Alkaline Phosphotase                             0.301938        0.009196   \n",
       "Alamine Aminotransferase                         0.782423        0.015647   \n",
       "Aspartate Aminotransferase                       1.000000       -0.032443   \n",
       "Total Protiens                                  -0.032443        1.000000   \n",
       "Albumin                                         -0.160192        0.785028   \n",
       "Albumin_Globulin_Ratio                          -0.136462        0.235566   \n",
       "Albumin_Globulin_Ratio_median                   -0.218972        0.278064   \n",
       "\n",
       "                                Albumin  Albumin_Globulin_Ratio  \\\n",
       "Male                          -0.091369               -0.005611   \n",
       "Age_of_patient                -0.271170               -0.215967   \n",
       "Total Bilirubin               -0.305188               -0.278453   \n",
       "Direct Bilirubin              -0.288908               -0.268203   \n",
       "Alkaline Phosphotase          -0.173848               -0.281590   \n",
       "Alamine Aminotransferase      -0.034662               -0.079335   \n",
       "Aspartate Aminotransferase    -0.160192               -0.136462   \n",
       "Total Protiens                 0.785028                0.235566   \n",
       "Albumin                        1.000000                0.687438   \n",
       "Albumin_Globulin_Ratio         0.687438                1.000000   \n",
       "Albumin_Globulin_Ratio_median  0.734764                0.811023   \n",
       "\n",
       "                               Albumin_Globulin_Ratio_median  \n",
       "Male                                               -0.042187  \n",
       "Age_of_patient                                     -0.244166  \n",
       "Total Bilirubin                                    -0.401670  \n",
       "Direct Bilirubin                                   -0.393987  \n",
       "Alkaline Phosphotase                               -0.301247  \n",
       "Alamine Aminotransferase                           -0.075368  \n",
       "Aspartate Aminotransferase                         -0.218972  \n",
       "Total Protiens                                      0.278064  \n",
       "Albumin                                             0.734764  \n",
       "Albumin_Globulin_Ratio                              0.811023  \n",
       "Albumin_Globulin_Ratio_median                       1.000000  "
      ]
     },
     "execution_count": 184,
     "metadata": {},
     "output_type": "execute_result"
    }
   ],
   "source": [
    "data1.drop('Target',axis=1).corr()"
   ]
  },
  {
   "cell_type": "code",
   "execution_count": 185,
   "id": "cdc120bb",
   "metadata": {
    "scrolled": true
   },
   "outputs": [
    {
     "data": {
      "text/plain": [
       "<matplotlib.axes._subplots.AxesSubplot at 0x21ca6bce040>"
      ]
     },
     "execution_count": 185,
     "metadata": {},
     "output_type": "execute_result"
    },
    {
     "data": {
      "image/png": "[encoded data removed]",
      "text/plain": [
       "<Figure size 1800x1440 with 2 Axes>"
      ]
     },
     "metadata": {
      "needs_background": "light"
     },
     "output_type": "display_data"
    }
   ],
   "source": [
    "plt.figure(figsize=(25,20))\n",
    "sns.heatmap(data1.drop('Target',axis=1).corr(),annot=True,cmap=\"RdYlGn\", annot_kws={\"size\":15})"
   ]
  },
  {
   "cell_type": "markdown",
   "id": "8779966d",
   "metadata": {},
   "source": [
    "# We will create models :\n",
    "Based on the statistical test, we will drop the following features : direct bilurbin\n"
   ]
  },
  {
   "cell_type": "code",
   "execution_count": 186,
   "id": "a3ab1d74",
   "metadata": {},
   "outputs": [],
   "source": [
    "data1.drop('Direct Bilirubin',axis=1,inplace=True)"
   ]
  },
  {
   "cell_type": "code",
   "execution_count": 187,
   "id": "5a1bd9d3",
   "metadata": {},
   "outputs": [
    {
     "data": {
      "text/html": [
       "<div>\n",
       "<style scoped>\n",
       "    .dataframe tbody tr th:only-of-type {\n",
       "        vertical-align: middle;\n",
       "    }\n",
       "\n",
       "    .dataframe tbody tr th {\n",
       "        vertical-align: top;\n",
       "    }\n",
       "\n",
       "    .dataframe thead th {\n",
       "        text-align: right;\n",
       "    }\n",
       "</style>\n",
       "<table border=\"1\" class=\"dataframe\">\n",
       "  <thead>\n",
       "    <tr style=\"text-align: right;\">\n",
       "      <th></th>\n",
       "      <th>Male</th>\n",
       "      <th>Age_of_patient</th>\n",
       "      <th>Total Bilirubin</th>\n",
       "      <th>Alkaline Phosphotase</th>\n",
       "      <th>Alamine Aminotransferase</th>\n",
       "      <th>Aspartate Aminotransferase</th>\n",
       "      <th>Total Protiens</th>\n",
       "      <th>Albumin</th>\n",
       "      <th>Albumin_Globulin_Ratio</th>\n",
       "      <th>Target</th>\n",
       "      <th>Albumin_Globulin_Ratio_median</th>\n",
       "    </tr>\n",
       "  </thead>\n",
       "  <tbody>\n",
       "    <tr>\n",
       "      <th>0</th>\n",
       "      <td>0</td>\n",
       "      <td>65</td>\n",
       "      <td>0.7</td>\n",
       "      <td>187.00</td>\n",
       "      <td>16</td>\n",
       "      <td>18</td>\n",
       "      <td>6.8</td>\n",
       "      <td>3.3</td>\n",
       "      <td>0.90</td>\n",
       "      <td>1</td>\n",
       "      <td>0.90</td>\n",
       "    </tr>\n",
       "    <tr>\n",
       "      <th>1</th>\n",
       "      <td>1</td>\n",
       "      <td>62</td>\n",
       "      <td>5.3</td>\n",
       "      <td>481.75</td>\n",
       "      <td>64</td>\n",
       "      <td>100</td>\n",
       "      <td>7.5</td>\n",
       "      <td>3.2</td>\n",
       "      <td>0.74</td>\n",
       "      <td>1</td>\n",
       "      <td>0.74</td>\n",
       "    </tr>\n",
       "    <tr>\n",
       "      <th>2</th>\n",
       "      <td>1</td>\n",
       "      <td>62</td>\n",
       "      <td>5.3</td>\n",
       "      <td>481.75</td>\n",
       "      <td>60</td>\n",
       "      <td>68</td>\n",
       "      <td>7.0</td>\n",
       "      <td>3.3</td>\n",
       "      <td>0.89</td>\n",
       "      <td>1</td>\n",
       "      <td>0.89</td>\n",
       "    </tr>\n",
       "    <tr>\n",
       "      <th>3</th>\n",
       "      <td>1</td>\n",
       "      <td>58</td>\n",
       "      <td>1.0</td>\n",
       "      <td>182.00</td>\n",
       "      <td>14</td>\n",
       "      <td>20</td>\n",
       "      <td>6.8</td>\n",
       "      <td>3.4</td>\n",
       "      <td>1.00</td>\n",
       "      <td>1</td>\n",
       "      <td>1.00</td>\n",
       "    </tr>\n",
       "    <tr>\n",
       "      <th>4</th>\n",
       "      <td>1</td>\n",
       "      <td>72</td>\n",
       "      <td>3.9</td>\n",
       "      <td>195.00</td>\n",
       "      <td>27</td>\n",
       "      <td>59</td>\n",
       "      <td>7.3</td>\n",
       "      <td>2.4</td>\n",
       "      <td>0.40</td>\n",
       "      <td>1</td>\n",
       "      <td>0.40</td>\n",
       "    </tr>\n",
       "    <tr>\n",
       "      <th>...</th>\n",
       "      <td>...</td>\n",
       "      <td>...</td>\n",
       "      <td>...</td>\n",
       "      <td>...</td>\n",
       "      <td>...</td>\n",
       "      <td>...</td>\n",
       "      <td>...</td>\n",
       "      <td>...</td>\n",
       "      <td>...</td>\n",
       "      <td>...</td>\n",
       "      <td>...</td>\n",
       "    </tr>\n",
       "    <tr>\n",
       "      <th>578</th>\n",
       "      <td>1</td>\n",
       "      <td>60</td>\n",
       "      <td>0.5</td>\n",
       "      <td>481.75</td>\n",
       "      <td>20</td>\n",
       "      <td>34</td>\n",
       "      <td>5.9</td>\n",
       "      <td>1.6</td>\n",
       "      <td>0.37</td>\n",
       "      <td>2</td>\n",
       "      <td>0.37</td>\n",
       "    </tr>\n",
       "    <tr>\n",
       "      <th>579</th>\n",
       "      <td>1</td>\n",
       "      <td>40</td>\n",
       "      <td>0.6</td>\n",
       "      <td>98.00</td>\n",
       "      <td>35</td>\n",
       "      <td>31</td>\n",
       "      <td>6.0</td>\n",
       "      <td>3.2</td>\n",
       "      <td>1.10</td>\n",
       "      <td>1</td>\n",
       "      <td>1.00</td>\n",
       "    </tr>\n",
       "    <tr>\n",
       "      <th>580</th>\n",
       "      <td>1</td>\n",
       "      <td>52</td>\n",
       "      <td>0.8</td>\n",
       "      <td>245.00</td>\n",
       "      <td>48</td>\n",
       "      <td>49</td>\n",
       "      <td>6.4</td>\n",
       "      <td>3.2</td>\n",
       "      <td>1.00</td>\n",
       "      <td>1</td>\n",
       "      <td>1.00</td>\n",
       "    </tr>\n",
       "    <tr>\n",
       "      <th>581</th>\n",
       "      <td>1</td>\n",
       "      <td>31</td>\n",
       "      <td>1.3</td>\n",
       "      <td>184.00</td>\n",
       "      <td>29</td>\n",
       "      <td>32</td>\n",
       "      <td>6.8</td>\n",
       "      <td>3.4</td>\n",
       "      <td>1.00</td>\n",
       "      <td>1</td>\n",
       "      <td>1.00</td>\n",
       "    </tr>\n",
       "    <tr>\n",
       "      <th>582</th>\n",
       "      <td>1</td>\n",
       "      <td>38</td>\n",
       "      <td>1.0</td>\n",
       "      <td>216.00</td>\n",
       "      <td>21</td>\n",
       "      <td>24</td>\n",
       "      <td>7.3</td>\n",
       "      <td>4.4</td>\n",
       "      <td>1.50</td>\n",
       "      <td>2</td>\n",
       "      <td>1.00</td>\n",
       "    </tr>\n",
       "  </tbody>\n",
       "</table>\n",
       "<p>570 rows × 11 columns</p>\n",
       "</div>"
      ],
      "text/plain": [
       "     Male  Age_of_patient  Total Bilirubin  Alkaline Phosphotase  \\\n",
       "0       0              65              0.7                187.00   \n",
       "1       1              62              5.3                481.75   \n",
       "2       1              62              5.3                481.75   \n",
       "3       1              58              1.0                182.00   \n",
       "4       1              72              3.9                195.00   \n",
       "..    ...             ...              ...                   ...   \n",
       "578     1              60              0.5                481.75   \n",
       "579     1              40              0.6                 98.00   \n",
       "580     1              52              0.8                245.00   \n",
       "581     1              31              1.3                184.00   \n",
       "582     1              38              1.0                216.00   \n",
       "\n",
       "     Alamine Aminotransferase  Aspartate Aminotransferase  Total Protiens  \\\n",
       "0                          16                          18             6.8   \n",
       "1                          64                         100             7.5   \n",
       "2                          60                          68             7.0   \n",
       "3                          14                          20             6.8   \n",
       "4                          27                          59             7.3   \n",
       "..                        ...                         ...             ...   \n",
       "578                        20                          34             5.9   \n",
       "579                        35                          31             6.0   \n",
       "580                        48                          49             6.4   \n",
       "581                        29                          32             6.8   \n",
       "582                        21                          24             7.3   \n",
       "\n",
       "     Albumin  Albumin_Globulin_Ratio  Target  Albumin_Globulin_Ratio_median  \n",
       "0        3.3                    0.90       1                           0.90  \n",
       "1        3.2                    0.74       1                           0.74  \n",
       "2        3.3                    0.89       1                           0.89  \n",
       "3        3.4                    1.00       1                           1.00  \n",
       "4        2.4                    0.40       1                           0.40  \n",
       "..       ...                     ...     ...                            ...  \n",
       "578      1.6                    0.37       2                           0.37  \n",
       "579      3.2                    1.10       1                           1.00  \n",
       "580      3.2                    1.00       1                           1.00  \n",
       "581      3.4                    1.00       1                           1.00  \n",
       "582      4.4                    1.50       2                           1.00  \n",
       "\n",
       "[570 rows x 11 columns]"
      ]
     },
     "execution_count": 187,
     "metadata": {},
     "output_type": "execute_result"
    }
   ],
   "source": [
    "data1"
   ]
  },
  {
   "cell_type": "code",
   "execution_count": 188,
   "id": "d118a2a9",
   "metadata": {},
   "outputs": [
    {
     "data": {
      "text/plain": [
       "Index(['Male', 'Age_of_patient', 'Total Bilirubin', 'Alkaline Phosphotase',\n",
       "       'Alamine Aminotransferase', 'Aspartate Aminotransferase',\n",
       "       'Total Protiens', 'Albumin', 'Albumin_Globulin_Ratio', 'Target',\n",
       "       'Albumin_Globulin_Ratio_median'],\n",
       "      dtype='object')"
      ]
     },
     "execution_count": 188,
     "metadata": {},
     "output_type": "execute_result"
    }
   ],
   "source": [
    "data1.columns"
   ]
  },
  {
   "cell_type": "code",
   "execution_count": 189,
   "id": "0656565b",
   "metadata": {},
   "outputs": [
    {
     "data": {
      "text/plain": [
       "<matplotlib.axes._subplots.AxesSubplot at 0x21ca74d8af0>"
      ]
     },
     "execution_count": 189,
     "metadata": {},
     "output_type": "execute_result"
    },
    {
     "data": {
      "image/png": "[encoded data removed]",
      "text/plain": [
       "<Figure size 432x288 with 1 Axes>"
      ]
     },
     "metadata": {
      "needs_background": "light"
     },
     "output_type": "display_data"
    }
   ],
   "source": [
    "sns.countplot(x= data1['Male'] , hue='Target' ,data=data1)"
   ]
  },
  {
   "cell_type": "markdown",
   "id": "d1d4bbec",
   "metadata": {},
   "source": [
    "## Model Creation"
   ]
  },
  {
   "cell_type": "code",
   "execution_count": 190,
   "id": "eed94bc3",
   "metadata": {},
   "outputs": [
    {
     "data": {
      "text/html": [
       "<div>\n",
       "<style scoped>\n",
       "    .dataframe tbody tr th:only-of-type {\n",
       "        vertical-align: middle;\n",
       "    }\n",
       "\n",
       "    .dataframe tbody tr th {\n",
       "        vertical-align: top;\n",
       "    }\n",
       "\n",
       "    .dataframe thead th {\n",
       "        text-align: right;\n",
       "    }\n",
       "</style>\n",
       "<table border=\"1\" class=\"dataframe\">\n",
       "  <thead>\n",
       "    <tr style=\"text-align: right;\">\n",
       "      <th></th>\n",
       "      <th>Male</th>\n",
       "      <th>Age_of_patient</th>\n",
       "      <th>Total Bilirubin</th>\n",
       "      <th>Alkaline Phosphotase</th>\n",
       "      <th>Alamine Aminotransferase</th>\n",
       "      <th>Aspartate Aminotransferase</th>\n",
       "      <th>Total Protiens</th>\n",
       "      <th>Albumin</th>\n",
       "      <th>Albumin_Globulin_Ratio</th>\n",
       "      <th>Target</th>\n",
       "      <th>Albumin_Globulin_Ratio_median</th>\n",
       "    </tr>\n",
       "  </thead>\n",
       "  <tbody>\n",
       "    <tr>\n",
       "      <th>0</th>\n",
       "      <td>0</td>\n",
       "      <td>65</td>\n",
       "      <td>0.7</td>\n",
       "      <td>187.00</td>\n",
       "      <td>16</td>\n",
       "      <td>18</td>\n",
       "      <td>6.8</td>\n",
       "      <td>3.3</td>\n",
       "      <td>0.90</td>\n",
       "      <td>1</td>\n",
       "      <td>0.90</td>\n",
       "    </tr>\n",
       "    <tr>\n",
       "      <th>1</th>\n",
       "      <td>1</td>\n",
       "      <td>62</td>\n",
       "      <td>5.3</td>\n",
       "      <td>481.75</td>\n",
       "      <td>64</td>\n",
       "      <td>100</td>\n",
       "      <td>7.5</td>\n",
       "      <td>3.2</td>\n",
       "      <td>0.74</td>\n",
       "      <td>1</td>\n",
       "      <td>0.74</td>\n",
       "    </tr>\n",
       "    <tr>\n",
       "      <th>2</th>\n",
       "      <td>1</td>\n",
       "      <td>62</td>\n",
       "      <td>5.3</td>\n",
       "      <td>481.75</td>\n",
       "      <td>60</td>\n",
       "      <td>68</td>\n",
       "      <td>7.0</td>\n",
       "      <td>3.3</td>\n",
       "      <td>0.89</td>\n",
       "      <td>1</td>\n",
       "      <td>0.89</td>\n",
       "    </tr>\n",
       "    <tr>\n",
       "      <th>3</th>\n",
       "      <td>1</td>\n",
       "      <td>58</td>\n",
       "      <td>1.0</td>\n",
       "      <td>182.00</td>\n",
       "      <td>14</td>\n",
       "      <td>20</td>\n",
       "      <td>6.8</td>\n",
       "      <td>3.4</td>\n",
       "      <td>1.00</td>\n",
       "      <td>1</td>\n",
       "      <td>1.00</td>\n",
       "    </tr>\n",
       "    <tr>\n",
       "      <th>4</th>\n",
       "      <td>1</td>\n",
       "      <td>72</td>\n",
       "      <td>3.9</td>\n",
       "      <td>195.00</td>\n",
       "      <td>27</td>\n",
       "      <td>59</td>\n",
       "      <td>7.3</td>\n",
       "      <td>2.4</td>\n",
       "      <td>0.40</td>\n",
       "      <td>1</td>\n",
       "      <td>0.40</td>\n",
       "    </tr>\n",
       "  </tbody>\n",
       "</table>\n",
       "</div>"
      ],
      "text/plain": [
       "   Male  Age_of_patient  Total Bilirubin  Alkaline Phosphotase  \\\n",
       "0     0              65              0.7                187.00   \n",
       "1     1              62              5.3                481.75   \n",
       "2     1              62              5.3                481.75   \n",
       "3     1              58              1.0                182.00   \n",
       "4     1              72              3.9                195.00   \n",
       "\n",
       "   Alamine Aminotransferase  Aspartate Aminotransferase  Total Protiens  \\\n",
       "0                        16                          18             6.8   \n",
       "1                        64                         100             7.5   \n",
       "2                        60                          68             7.0   \n",
       "3                        14                          20             6.8   \n",
       "4                        27                          59             7.3   \n",
       "\n",
       "   Albumin  Albumin_Globulin_Ratio  Target  Albumin_Globulin_Ratio_median  \n",
       "0      3.3                    0.90       1                           0.90  \n",
       "1      3.2                    0.74       1                           0.74  \n",
       "2      3.3                    0.89       1                           0.89  \n",
       "3      3.4                    1.00       1                           1.00  \n",
       "4      2.4                    0.40       1                           0.40  "
      ]
     },
     "execution_count": 190,
     "metadata": {},
     "output_type": "execute_result"
    }
   ],
   "source": [
    "data1.head()"
   ]
  },
  {
   "cell_type": "code",
   "execution_count": 191,
   "id": "5cd650b4",
   "metadata": {},
   "outputs": [
    {
     "data": {
      "text/plain": [
       "Index(['Male', 'Age_of_patient', 'Total Bilirubin', 'Alkaline Phosphotase',\n",
       "       'Alamine Aminotransferase', 'Aspartate Aminotransferase',\n",
       "       'Total Protiens', 'Albumin', 'Albumin_Globulin_Ratio', 'Target',\n",
       "       'Albumin_Globulin_Ratio_median'],\n",
       "      dtype='object')"
      ]
     },
     "execution_count": 191,
     "metadata": {},
     "output_type": "execute_result"
    }
   ],
   "source": [
    "data1.columns"
   ]
  },
  {
   "cell_type": "markdown",
   "id": "67c0ebe3",
   "metadata": {},
   "source": [
    "#### Splitting of Data"
   ]
  },
  {
   "cell_type": "code",
   "execution_count": 192,
   "id": "513a8566",
   "metadata": {},
   "outputs": [],
   "source": [
    "X = data1.drop(columns = ['Target','Albumin_Globulin_Ratio'])\n",
    "y = data1['Target']\n"
   ]
  },
  {
   "cell_type": "markdown",
   "id": "b36ce78f",
   "metadata": {},
   "source": [
    "### Use Random over sampling method to handle imbalanced dataset"
   ]
  },
  {
   "cell_type": "code",
   "execution_count": 193,
   "id": "5a41714c",
   "metadata": {},
   "outputs": [],
   "source": [
    "\n",
    "from imblearn.over_sampling import RandomOverSampler"
   ]
  },
  {
   "cell_type": "code",
   "execution_count": 194,
   "id": "e87ec68f",
   "metadata": {},
   "outputs": [],
   "source": [
    "os =  RandomOverSampler()"
   ]
  },
  {
   "cell_type": "code",
   "execution_count": 195,
   "id": "c30c0612",
   "metadata": {},
   "outputs": [],
   "source": [
    "X_res, y_res = os.fit_resample(X,y)"
   ]
  },
  {
   "cell_type": "code",
   "execution_count": 196,
   "id": "9c223b96",
   "metadata": {},
   "outputs": [
    {
     "name": "stdout",
     "output_type": "stream",
     "text": [
      "Original dataset shape Counter({1: 406, 2: 164})\n",
      "Resampled dataset shape Counter({1: 406, 2: 406})\n"
     ]
    }
   ],
   "source": [
    "from collections import Counter\n",
    "print('Original dataset shape {}'.format(Counter(y)))\n",
    "print('Resampled dataset shape {}'.format(Counter(y_res)))"
   ]
  },
  {
   "cell_type": "markdown",
   "id": "d712a67e",
   "metadata": {},
   "source": [
    "### Feature Scaling"
   ]
  },
  {
   "cell_type": "code",
   "execution_count": 197,
   "id": "1ac7f00b",
   "metadata": {},
   "outputs": [
    {
     "data": {
      "text/plain": [
       "array([[-1.62018517,  1.28289567, -0.64835194, ...,  0.27560214,\n",
       "         0.1305887 ,  0.18954498],\n",
       "       [ 0.6172134 ,  1.10025679,  2.39210525, ...,  0.92995576,\n",
       "         0.00627683, -0.7228553 ],\n",
       "       [ 0.6172134 ,  1.10025679,  2.39210525, ...,  0.46256032,\n",
       "         0.1305887 ,  0.13251996],\n",
       "       ...,\n",
       "       [ 0.6172134 , -0.9696505 , -0.71444883, ...,  0.46256032,\n",
       "         0.37921245,  0.75979515],\n",
       "       [-1.62018517, -0.11733573, -0.51615815, ...,  1.86474665,\n",
       "         1.4980193 ,  0.75979515],\n",
       "       [-1.62018517, -1.63932639, -0.78054573, ...,  0.55603941,\n",
       "         1.62233117,  0.75979515]])"
      ]
     },
     "execution_count": 197,
     "metadata": {},
     "output_type": "execute_result"
    }
   ],
   "source": [
    "from sklearn.preprocessing import StandardScaler\n",
    "# we need to scale our data as well\n",
    "from sklearn.preprocessing import StandardScaler\n",
    "scaler = StandardScaler()\n",
    "scaler.fit(X_res)\n",
    "x_scaled= scaler.transform(X_res)\n",
    "# This is how our data looks now after scaling.\n",
    "x_scaled"
   ]
  },
  {
   "cell_type": "code",
   "execution_count": 198,
   "id": "8abd3a1e",
   "metadata": {},
   "outputs": [
    {
     "data": {
      "text/plain": [
       "array([[-1.62018517,  1.28289567, -0.64835194, ...,  0.27560214,\n",
       "         0.1305887 ,  0.18954498],\n",
       "       [ 0.6172134 ,  1.10025679,  2.39210525, ...,  0.92995576,\n",
       "         0.00627683, -0.7228553 ],\n",
       "       [ 0.6172134 ,  1.10025679,  2.39210525, ...,  0.46256032,\n",
       "         0.1305887 ,  0.13251996],\n",
       "       ...,\n",
       "       [ 0.6172134 , -0.9696505 , -0.71444883, ...,  0.46256032,\n",
       "         0.37921245,  0.75979515],\n",
       "       [-1.62018517, -0.11733573, -0.51615815, ...,  1.86474665,\n",
       "         1.4980193 ,  0.75979515],\n",
       "       [-1.62018517, -1.63932639, -0.78054573, ...,  0.55603941,\n",
       "         1.62233117,  0.75979515]])"
      ]
     },
     "execution_count": 198,
     "metadata": {},
     "output_type": "execute_result"
    }
   ],
   "source": [
    "x_scaled"
   ]
  },
  {
   "cell_type": "markdown",
   "id": "ecf9531b",
   "metadata": {},
   "source": [
    "### Splitting the test train data"
   ]
  },
  {
   "cell_type": "code",
   "execution_count": 199,
   "id": "20940f32",
   "metadata": {},
   "outputs": [],
   "source": [
    "from sklearn.model_selection import train_test_split\n",
    "X_train,X_test,y_train,y_test=train_test_split(x_scaled,y_res,test_size=0.2,random_state=0)"
   ]
  },
  {
   "cell_type": "markdown",
   "id": "94533c2f",
   "metadata": {},
   "source": [
    "### Use of Machine Learning Models"
   ]
  },
  {
   "cell_type": "code",
   "execution_count": 200,
   "id": "91021777",
   "metadata": {},
   "outputs": [],
   "source": [
    "from sklearn.linear_model import LogisticRegression\n",
    "from sklearn.neighbors import  KNeighborsClassifier"
   ]
  },
  {
   "cell_type": "code",
   "execution_count": 201,
   "id": "e0d47717",
   "metadata": {},
   "outputs": [],
   "source": [
    "logreg = LogisticRegression(random_state=42)\n",
    "clf =logreg.fit(X_train,y_train)"
   ]
  },
  {
   "cell_type": "code",
   "execution_count": 202,
   "id": "499ee38a",
   "metadata": {},
   "outputs": [],
   "source": [
    "from sklearn.model_selection import GridSearchCV\n",
    "parameters = [{'penalty':['l1','l2'],'max_iter':[20,40,60],'solver':['liblinear','newton-cg','saga'],'C':[0.001,0.00001,1,100,1000]}]\n",
    "grid_search = GridSearchCV(estimator = logreg,param_grid = parameters,scoring = 'accuracy',\n",
    "                           cv = 10,)\n",
    "grid_search = grid_search.fit(X_train, y_train)"
   ]
  },
  {
   "cell_type": "code",
   "execution_count": 203,
   "id": "68de2cca",
   "metadata": {},
   "outputs": [
    {
     "data": {
      "text/plain": [
       "{'C': 1, 'max_iter': 20, 'penalty': 'l2', 'solver': 'liblinear'}"
      ]
     },
     "execution_count": 203,
     "metadata": {},
     "output_type": "execute_result"
    }
   ],
   "source": [
    "grid_search.best_params_"
   ]
  },
  {
   "cell_type": "code",
   "execution_count": 204,
   "id": "820125ae",
   "metadata": {},
   "outputs": [
    {
     "data": {
      "text/plain": [
       "LogisticRegression(C=1, max_iter=20, random_state=0, solver='liblinear')"
      ]
     },
     "execution_count": 204,
     "metadata": {},
     "output_type": "execute_result"
    }
   ],
   "source": [
    "logreg = LogisticRegression( random_state=0,C=1, penalty='l2',max_iter=20\n",
    "                            ,solver='liblinear')\n",
    "logreg.fit(X_train,y_train)"
   ]
  },
  {
   "cell_type": "code",
   "execution_count": 205,
   "id": "a349a8aa",
   "metadata": {},
   "outputs": [],
   "source": [
    "knn=KNeighborsClassifier(n_neighbors = 6 , metric ='minkowski' ,p =2)\n",
    "model=knn.fit(X_train , y_train)"
   ]
  },
  {
   "cell_type": "code",
   "execution_count": 206,
   "id": "63406fb1",
   "metadata": {},
   "outputs": [],
   "source": [
    "from sklearn.model_selection import GridSearchCV\n",
    "parameters = [{'n_neighbors':[5,10,10,100],'leaf_size':[5,10,15,20,25,30],'p':[1,2,3]}]\n",
    "grid_search = GridSearchCV(estimator = knn,param_grid = parameters,scoring = 'accuracy',\n",
    "                           cv = 10,)\n",
    "grid_search = grid_search.fit(X_train, y_train)"
   ]
  },
  {
   "cell_type": "code",
   "execution_count": 207,
   "id": "25f21b72",
   "metadata": {},
   "outputs": [
    {
     "data": {
      "text/plain": [
       "{'leaf_size': 5, 'n_neighbors': 5, 'p': 3}"
      ]
     },
     "execution_count": 207,
     "metadata": {},
     "output_type": "execute_result"
    }
   ],
   "source": [
    "grid_search.best_params_"
   ]
  },
  {
   "cell_type": "code",
   "execution_count": 208,
   "id": "3d439ca6",
   "metadata": {},
   "outputs": [],
   "source": [
    "knn=KNeighborsClassifier(n_neighbors = 5 , metric ='minkowski' ,p =3,leaf_size=5)\n",
    "model=knn.fit(X_train , y_train)"
   ]
  },
  {
   "cell_type": "code",
   "execution_count": 209,
   "id": "ac43f534",
   "metadata": {},
   "outputs": [
    {
     "data": {
      "text/plain": [
       "SVC(kernel='linear', random_state=42)"
      ]
     },
     "execution_count": 209,
     "metadata": {},
     "output_type": "execute_result"
    }
   ],
   "source": [
    "from sklearn.svm import SVC\n",
    "SVM_Classifier= SVC(kernel = 'linear' , random_state=42)\n",
    "SVM_Classifier.fit(X_train , y_train)"
   ]
  },
  {
   "cell_type": "code",
   "execution_count": 210,
   "id": "3c5634e5",
   "metadata": {},
   "outputs": [],
   "source": [
    "# Applying Grid Search to find the best model and the best parameters\n",
    "from sklearn.model_selection import GridSearchCV\n",
    "parameters = [{'C': [1, 10, 100, 1000], 'kernel': ['linear']},\n",
    "              {'C': [1, 10, 100, 1000], 'kernel': ['rbf'], 'gamma': [0.1, 0.2, 0.3, 0.4, 0.5, 0.6, 0.7, 0.8, 0.9]}]\n",
    "grid_search = GridSearchCV(estimator = SVM_Classifier,\n",
    "                           param_grid = parameters,\n",
    "                           scoring = 'accuracy',\n",
    "                           cv = 10,\n",
    "                           n_jobs = -1)\n",
    "grid_search = grid_search.fit(X_train, y_train)"
   ]
  },
  {
   "cell_type": "code",
   "execution_count": 211,
   "id": "f668527f",
   "metadata": {},
   "outputs": [
    {
     "data": {
      "text/plain": [
       "{'C': 10, 'gamma': 0.8, 'kernel': 'rbf'}"
      ]
     },
     "execution_count": 211,
     "metadata": {},
     "output_type": "execute_result"
    }
   ],
   "source": [
    "grid_search.best_params_\n"
   ]
  },
  {
   "cell_type": "code",
   "execution_count": 212,
   "id": "1e04d779",
   "metadata": {},
   "outputs": [
    {
     "data": {
      "text/plain": [
       "SVC(random_state=42)"
      ]
     },
     "execution_count": 212,
     "metadata": {},
     "output_type": "execute_result"
    }
   ],
   "source": [
    "from sklearn.svm import SVC\n",
    "SVM_Classifier= SVC(kernel = 'rbf' , random_state=42)\n",
    "SVM_Classifier.fit(X_train , y_train)"
   ]
  },
  {
   "cell_type": "code",
   "execution_count": 213,
   "id": "9d0a9521",
   "metadata": {},
   "outputs": [
    {
     "data": {
      "text/plain": [
       "GaussianNB()"
      ]
     },
     "execution_count": 213,
     "metadata": {},
     "output_type": "execute_result"
    }
   ],
   "source": [
    "from sklearn.naive_bayes import GaussianNB\n",
    "nb=GaussianNB()\n",
    "nb.fit(X_train , y_train)"
   ]
  },
  {
   "cell_type": "code",
   "execution_count": 214,
   "id": "17056917",
   "metadata": {},
   "outputs": [
    {
     "data": {
      "text/plain": [
       "DecisionTreeClassifier(criterion='entropy', random_state=42)"
      ]
     },
     "execution_count": 214,
     "metadata": {},
     "output_type": "execute_result"
    }
   ],
   "source": [
    "from sklearn.tree import DecisionTreeClassifier\n",
    "dectree = DecisionTreeClassifier(criterion= 'entropy',random_state=42)\n",
    "dectree.fit(X_train, y_train)"
   ]
  },
  {
   "cell_type": "code",
   "execution_count": 215,
   "id": "553d2d9a",
   "metadata": {},
   "outputs": [],
   "source": [
    "parameter={\n",
    " 'criterion':['gini','entropy','log_loss'],\n",
    "  'splitter':['best','random'],\n",
    "  'max_depth':[1,2,3,4,5],\n",
    "  'max_features':['auto', 'sqrt', 'log2']\n",
    "    \n",
    "}\n"
   ]
  },
  {
   "cell_type": "code",
   "execution_count": 216,
   "id": "cb1ed799",
   "metadata": {},
   "outputs": [],
   "source": [
    "cv=GridSearchCV( dectree,param_grid=parameter,cv=5,scoring='accuracy')\n",
    "grid_search = cv.fit(X_train, y_train)"
   ]
  },
  {
   "cell_type": "code",
   "execution_count": 217,
   "id": "54a78a14",
   "metadata": {},
   "outputs": [
    {
     "data": {
      "text/plain": [
       "{'criterion': 'entropy',\n",
       " 'max_depth': 5,\n",
       " 'max_features': 'auto',\n",
       " 'splitter': 'best'}"
      ]
     },
     "execution_count": 217,
     "metadata": {},
     "output_type": "execute_result"
    }
   ],
   "source": [
    "cv.best_params_\n"
   ]
  },
  {
   "cell_type": "code",
   "execution_count": 218,
   "id": "88b31a00",
   "metadata": {},
   "outputs": [],
   "source": [
    "dectree = DecisionTreeClassifier(criterion= 'entropy',max_depth=5,max_features='auto',splitter='best',random_state=42)\n"
   ]
  },
  {
   "cell_type": "code",
   "execution_count": 219,
   "id": "0bf16701",
   "metadata": {},
   "outputs": [
    {
     "data": {
      "text/plain": [
       "DecisionTreeClassifier(criterion='entropy', max_depth=5, max_features='auto',\n",
       "                       random_state=42)"
      ]
     },
     "execution_count": 219,
     "metadata": {},
     "output_type": "execute_result"
    }
   ],
   "source": [
    "dectree.fit(X_train,y_train)"
   ]
  },
  {
   "cell_type": "code",
   "execution_count": 220,
   "id": "406dcc89",
   "metadata": {},
   "outputs": [
    {
     "data": {
      "text/plain": [
       "RandomForestClassifier()"
      ]
     },
     "execution_count": 220,
     "metadata": {},
     "output_type": "execute_result"
    }
   ],
   "source": [
    "from sklearn.ensemble import RandomForestClassifier\n",
    "ranfor = RandomForestClassifier()\n",
    "ranfor.fit(X_train , y_train)"
   ]
  },
  {
   "cell_type": "code",
   "execution_count": 221,
   "id": "b2b38058",
   "metadata": {},
   "outputs": [],
   "source": [
    "from sklearn.model_selection import RandomizedSearchCV\n"
   ]
  },
  {
   "cell_type": "code",
   "execution_count": 222,
   "id": "7da16fb8",
   "metadata": {},
   "outputs": [],
   "source": [
    "#Randomized Search CV\n",
    "\n",
    "# Number of trees in random forest\n",
    "n_estimators = [int(X) for X in np.linspace(start = 100, stop = 1200, num = 12)]\n",
    "# Number of features to consider at every split\n",
    "max_features = ['auto', 'sqrt']\n",
    "# Maximum number of levels in tree\n",
    "max_depth = [int(X) for X in np.linspace(5, 30, num = 6)]\n",
    "# Minimum number of samples required to split a node\n",
    "min_samples_split = [2, 5, 10, 15, 100]\n",
    "# Minimum number of samples required at each leaf node\n",
    "min_samples_leaf = [1, 2, 5, 10]\n"
   ]
  },
  {
   "cell_type": "code",
   "execution_count": 223,
   "id": "7c5cba7d",
   "metadata": {},
   "outputs": [],
   "source": [
    "# Create the random grid\n",
    "# Create the random grid\n",
    "\n",
    "random_grid = {'n_estimators': n_estimators,\n",
    "               'max_features': max_features,\n",
    "               'max_depth': max_depth,\n",
    "               'min_samples_split': min_samples_split,\n",
    "               'min_samples_leaf': min_samples_leaf}\n",
    "\n"
   ]
  },
  {
   "cell_type": "code",
   "execution_count": 224,
   "id": "1d9f2ce6",
   "metadata": {},
   "outputs": [],
   "source": [
    "# Random search of parameters, using 5 fold cross validation, \n",
    "# search across 100 different combinations\n",
    "rf_random = RandomizedSearchCV(estimator = ranfor, param_distributions = random_grid, n_iter = 10, cv = 5, verbose=2, random_state=42, n_jobs = 1)\n"
   ]
  },
  {
   "cell_type": "code",
   "execution_count": 225,
   "id": "7d36a7c0",
   "metadata": {},
   "outputs": [
    {
     "name": "stdout",
     "output_type": "stream",
     "text": [
      "Fitting 5 folds for each of 10 candidates, totalling 50 fits\n",
      "[CV] END max_depth=10, max_features=sqrt, min_samples_leaf=5, min_samples_split=5, n_estimators=900; total time=   1.7s\n",
      "[CV] END max_depth=10, max_features=sqrt, min_samples_leaf=5, min_samples_split=5, n_estimators=900; total time=   1.6s\n",
      "[CV] END max_depth=10, max_features=sqrt, min_samples_leaf=5, min_samples_split=5, n_estimators=900; total time=   1.6s\n",
      "[CV] END max_depth=10, max_features=sqrt, min_samples_leaf=5, min_samples_split=5, n_estimators=900; total time=   1.6s\n",
      "[CV] END max_depth=10, max_features=sqrt, min_samples_leaf=5, min_samples_split=5, n_estimators=900; total time=   1.6s\n",
      "[CV] END max_depth=15, max_features=sqrt, min_samples_leaf=2, min_samples_split=10, n_estimators=1100; total time=   2.0s\n",
      "[CV] END max_depth=15, max_features=sqrt, min_samples_leaf=2, min_samples_split=10, n_estimators=1100; total time=   2.3s\n",
      "[CV] END max_depth=15, max_features=sqrt, min_samples_leaf=2, min_samples_split=10, n_estimators=1100; total time=   2.0s\n",
      "[CV] END max_depth=15, max_features=sqrt, min_samples_leaf=2, min_samples_split=10, n_estimators=1100; total time=   2.0s\n",
      "[CV] END max_depth=15, max_features=sqrt, min_samples_leaf=2, min_samples_split=10, n_estimators=1100; total time=   2.0s\n",
      "[CV] END max_depth=15, max_features=auto, min_samples_leaf=5, min_samples_split=100, n_estimators=300; total time=   0.4s\n",
      "[CV] END max_depth=15, max_features=auto, min_samples_leaf=5, min_samples_split=100, n_estimators=300; total time=   0.4s\n",
      "[CV] END max_depth=15, max_features=auto, min_samples_leaf=5, min_samples_split=100, n_estimators=300; total time=   0.4s\n",
      "[CV] END max_depth=15, max_features=auto, min_samples_leaf=5, min_samples_split=100, n_estimators=300; total time=   0.4s\n",
      "[CV] END max_depth=15, max_features=auto, min_samples_leaf=5, min_samples_split=100, n_estimators=300; total time=   0.4s\n",
      "[CV] END max_depth=15, max_features=auto, min_samples_leaf=5, min_samples_split=5, n_estimators=400; total time=   0.7s\n",
      "[CV] END max_depth=15, max_features=auto, min_samples_leaf=5, min_samples_split=5, n_estimators=400; total time=   0.6s\n",
      "[CV] END max_depth=15, max_features=auto, min_samples_leaf=5, min_samples_split=5, n_estimators=400; total time=   0.6s\n",
      "[CV] END max_depth=15, max_features=auto, min_samples_leaf=5, min_samples_split=5, n_estimators=400; total time=   0.6s\n",
      "[CV] END max_depth=15, max_features=auto, min_samples_leaf=5, min_samples_split=5, n_estimators=400; total time=   0.6s\n",
      "[CV] END max_depth=20, max_features=auto, min_samples_leaf=10, min_samples_split=5, n_estimators=700; total time=   1.1s\n",
      "[CV] END max_depth=20, max_features=auto, min_samples_leaf=10, min_samples_split=5, n_estimators=700; total time=   1.1s\n",
      "[CV] END max_depth=20, max_features=auto, min_samples_leaf=10, min_samples_split=5, n_estimators=700; total time=   1.1s\n",
      "[CV] END max_depth=20, max_features=auto, min_samples_leaf=10, min_samples_split=5, n_estimators=700; total time=   1.1s\n",
      "[CV] END max_depth=20, max_features=auto, min_samples_leaf=10, min_samples_split=5, n_estimators=700; total time=   1.1s\n",
      "[CV] END max_depth=25, max_features=sqrt, min_samples_leaf=1, min_samples_split=2, n_estimators=1000; total time=   1.9s\n",
      "[CV] END max_depth=25, max_features=sqrt, min_samples_leaf=1, min_samples_split=2, n_estimators=1000; total time=   1.9s\n",
      "[CV] END max_depth=25, max_features=sqrt, min_samples_leaf=1, min_samples_split=2, n_estimators=1000; total time=   1.9s\n",
      "[CV] END max_depth=25, max_features=sqrt, min_samples_leaf=1, min_samples_split=2, n_estimators=1000; total time=   1.9s\n",
      "[CV] END max_depth=25, max_features=sqrt, min_samples_leaf=1, min_samples_split=2, n_estimators=1000; total time=   1.9s\n",
      "[CV] END max_depth=5, max_features=sqrt, min_samples_leaf=10, min_samples_split=15, n_estimators=1100; total time=   1.8s\n",
      "[CV] END max_depth=5, max_features=sqrt, min_samples_leaf=10, min_samples_split=15, n_estimators=1100; total time=   1.8s\n",
      "[CV] END max_depth=5, max_features=sqrt, min_samples_leaf=10, min_samples_split=15, n_estimators=1100; total time=   1.8s\n",
      "[CV] END max_depth=5, max_features=sqrt, min_samples_leaf=10, min_samples_split=15, n_estimators=1100; total time=   1.8s\n",
      "[CV] END max_depth=5, max_features=sqrt, min_samples_leaf=10, min_samples_split=15, n_estimators=1100; total time=   1.8s\n",
      "[CV] END max_depth=15, max_features=sqrt, min_samples_leaf=1, min_samples_split=15, n_estimators=300; total time=   0.5s\n",
      "[CV] END max_depth=15, max_features=sqrt, min_samples_leaf=1, min_samples_split=15, n_estimators=300; total time=   0.5s\n",
      "[CV] END max_depth=15, max_features=sqrt, min_samples_leaf=1, min_samples_split=15, n_estimators=300; total time=   0.5s\n",
      "[CV] END max_depth=15, max_features=sqrt, min_samples_leaf=1, min_samples_split=15, n_estimators=300; total time=   0.5s\n",
      "[CV] END max_depth=15, max_features=sqrt, min_samples_leaf=1, min_samples_split=15, n_estimators=300; total time=   0.5s\n",
      "[CV] END max_depth=5, max_features=sqrt, min_samples_leaf=2, min_samples_split=10, n_estimators=700; total time=   1.1s\n",
      "[CV] END max_depth=5, max_features=sqrt, min_samples_leaf=2, min_samples_split=10, n_estimators=700; total time=   1.1s\n",
      "[CV] END max_depth=5, max_features=sqrt, min_samples_leaf=2, min_samples_split=10, n_estimators=700; total time=   1.1s\n",
      "[CV] END max_depth=5, max_features=sqrt, min_samples_leaf=2, min_samples_split=10, n_estimators=700; total time=   1.1s\n",
      "[CV] END max_depth=5, max_features=sqrt, min_samples_leaf=2, min_samples_split=10, n_estimators=700; total time=   1.3s\n",
      "[CV] END max_depth=20, max_features=auto, min_samples_leaf=1, min_samples_split=15, n_estimators=700; total time=   1.2s\n",
      "[CV] END max_depth=20, max_features=auto, min_samples_leaf=1, min_samples_split=15, n_estimators=700; total time=   1.2s\n",
      "[CV] END max_depth=20, max_features=auto, min_samples_leaf=1, min_samples_split=15, n_estimators=700; total time=   1.2s\n",
      "[CV] END max_depth=20, max_features=auto, min_samples_leaf=1, min_samples_split=15, n_estimators=700; total time=   1.2s\n",
      "[CV] END max_depth=20, max_features=auto, min_samples_leaf=1, min_samples_split=15, n_estimators=700; total time=   1.3s\n"
     ]
    }
   ],
   "source": [
    "rf_random=rf_random.fit(X_train,y_train)\n"
   ]
  },
  {
   "cell_type": "code",
   "execution_count": 226,
   "id": "e602a80b",
   "metadata": {},
   "outputs": [
    {
     "data": {
      "text/plain": [
       "{'n_estimators': 1000,\n",
       " 'min_samples_split': 2,\n",
       " 'min_samples_leaf': 1,\n",
       " 'max_features': 'sqrt',\n",
       " 'max_depth': 25}"
      ]
     },
     "execution_count": 226,
     "metadata": {},
     "output_type": "execute_result"
    }
   ],
   "source": [
    "rf_random.best_params_\n"
   ]
  },
  {
   "cell_type": "code",
   "execution_count": 227,
   "id": "82fd3f46",
   "metadata": {
    "scrolled": true
   },
   "outputs": [
    {
     "data": {
      "text/plain": [
       "RandomForestClassifier(max_depth=25, max_features='sqrt', n_estimators=1000)"
      ]
     },
     "execution_count": 227,
     "metadata": {},
     "output_type": "execute_result"
    }
   ],
   "source": [
    "from sklearn.ensemble import RandomForestClassifier\n",
    "ranfor = RandomForestClassifier(n_estimators=1000,min_samples_split=2,min_samples_leaf=1,max_features='sqrt',max_depth=25)\n",
    "ranfor.fit(X_train , y_train)"
   ]
  },
  {
   "cell_type": "code",
   "execution_count": 228,
   "id": "14276a66",
   "metadata": {},
   "outputs": [],
   "source": [
    "from sklearn.ensemble import GradientBoostingClassifier"
   ]
  },
  {
   "cell_type": "code",
   "execution_count": 229,
   "id": "fc2d5ba2",
   "metadata": {},
   "outputs": [
    {
     "data": {
      "text/plain": [
       "GradientBoostingClassifier(learning_rate=0.5, n_estimators=10)"
      ]
     },
     "execution_count": 229,
     "metadata": {},
     "output_type": "execute_result"
    }
   ],
   "source": [
    "classifier = GradientBoostingClassifier(n_estimators=10,learning_rate=0.5)\n",
    "\n",
    "\n",
    "classifier.fit(X_train,y_train)"
   ]
  },
  {
   "cell_type": "code",
   "execution_count": 230,
   "id": "b94e12f0",
   "metadata": {},
   "outputs": [],
   "source": [
    "from sklearn.model_selection import GridSearchCV\n",
    "parameters = [{'learning_rate': [0.01,0.05,0.1,1,0.5],'max_depth':[1,3,5,7,9],\n",
    "              'n_estimators': [5,10,15,20]}]\n",
    "grid_search = GridSearchCV(estimator = classifier,param_grid = parameters,scoring = 'accuracy',\n",
    "                           cv = 10,)\n",
    "grid_search = grid_search.fit(X_train, y_train)"
   ]
  },
  {
   "cell_type": "code",
   "execution_count": 104,
   "id": "33922a32",
   "metadata": {},
   "outputs": [
    {
     "data": {
      "text/plain": [
       "{'learning_rate': 1, 'max_depth': 7, 'n_estimators': 15}"
      ]
     },
     "execution_count": 104,
     "metadata": {},
     "output_type": "execute_result"
    }
   ],
   "source": [
    "grid_search.best_params_"
   ]
  },
  {
   "cell_type": "code",
   "execution_count": 231,
   "id": "285f790e",
   "metadata": {},
   "outputs": [
    {
     "data": {
      "text/plain": [
       "GradientBoostingClassifier(learning_rate=1, max_depth=7, n_estimators=15)"
      ]
     },
     "execution_count": 231,
     "metadata": {},
     "output_type": "execute_result"
    }
   ],
   "source": [
    "classifier = GradientBoostingClassifier(n_estimators=15,learning_rate=1,max_depth=7)\n",
    "\n",
    "\n",
    "classifier.fit(X_train,y_train)"
   ]
  },
  {
   "cell_type": "code",
   "execution_count": 232,
   "id": "cf728c8d",
   "metadata": {},
   "outputs": [],
   "source": [
    "y_pred_logreg = logreg.predict(X_test)\n",
    "y_pred_knn = knn.predict(X_test)\n",
    "y_pred_svc =SVM_Classifier.predict(X_test)\n",
    "y_pred_nb = nb.predict(X_test)\n",
    "y_pred_dectree = dectree.predict(X_test)\n",
    "y_pred_ranfor = ranfor.predict(X_test)\n",
    "y_pred_Gradient=classifier.predict(X_test)\n"
   ]
  },
  {
   "cell_type": "markdown",
   "id": "8b9e7803",
   "metadata": {},
   "source": [
    "## Model Evaluation and choose the best model"
   ]
  },
  {
   "cell_type": "code",
   "execution_count": 233,
   "id": "7b32bba9",
   "metadata": {},
   "outputs": [],
   "source": [
    "from sklearn.metrics import accuracy_score\n",
    "from sklearn.metrics import precision_score , recall_score , f1_score\n",
    "accuracy_logreg = accuracy_score(y_test , y_pred_logreg)\n",
    "precision_logreg = precision_score(y_test,y_pred_logreg)\n",
    "recall_logreg = recall_score(y_test,y_pred_logreg)\n",
    "f1_logreg = f1_score(y_test,y_pred_logreg)"
   ]
  },
  {
   "cell_type": "code",
   "execution_count": 234,
   "id": "34eb430f",
   "metadata": {},
   "outputs": [],
   "source": [
    "accuracy_knn = accuracy_score(y_test,y_pred_knn)\n",
    "precision_knn = precision_score(y_test,y_pred_knn)\n",
    "recall_knn = recall_score(y_test,y_pred_knn)\n",
    "f1_knn = f1_score(y_test,y_pred_knn)"
   ]
  },
  {
   "cell_type": "code",
   "execution_count": 235,
   "id": "fe9bbb99",
   "metadata": {},
   "outputs": [],
   "source": [
    "accuracy_svc = accuracy_score(y_test,y_pred_svc)\n",
    "precision_svc = precision_score(y_test,y_pred_svc)\n",
    "recall_svc = recall_score(y_test,y_pred_svc)\n",
    "f1_svc = f1_score(y_test,y_pred_svc)"
   ]
  },
  {
   "cell_type": "code",
   "execution_count": 236,
   "id": "b78e3eca",
   "metadata": {},
   "outputs": [],
   "source": [
    "accuracy_nb = accuracy_score(y_test,y_pred_nb)\n",
    "precision_nb= precision_score(y_test,y_pred_nb)\n",
    "recall_nb = recall_score(y_test,y_pred_nb)\n",
    "f1_nb = f1_score(y_test,y_pred_nb)"
   ]
  },
  {
   "cell_type": "code",
   "execution_count": 237,
   "id": "4ae19775",
   "metadata": {},
   "outputs": [],
   "source": [
    "accuracy_dectree= accuracy_score(y_test,y_pred_dectree)\n",
    "precision_dectree = precision_score(y_test,y_pred_dectree)\n",
    "recall_dectree = recall_score(y_test,y_pred_dectree)\n",
    "f1_dectree = f1_score(y_test,y_pred_dectree)"
   ]
  },
  {
   "cell_type": "code",
   "execution_count": 238,
   "id": "85788083",
   "metadata": {},
   "outputs": [],
   "source": [
    "accuracy_ranfor = accuracy_score(y_test,y_pred_ranfor)\n",
    "precision_ranfor = precision_score(y_test,y_pred_ranfor)\n",
    "recall_ranfor = recall_score(y_test,y_pred_ranfor)\n",
    "f1_ranfor = f1_score(y_test,y_pred_ranfor)"
   ]
  },
  {
   "cell_type": "code",
   "execution_count": 239,
   "id": "04585a7f",
   "metadata": {},
   "outputs": [],
   "source": [
    "accuracy_Gradient= accuracy_score(y_test,y_pred_Gradient)\n",
    "precision_Gradient = precision_score(y_test,y_pred_Gradient)\n",
    "recall_Gradient = recall_score(y_test,y_pred_Gradient)\n",
    "f1_Gradient = f1_score(y_test,y_pred_Gradient)"
   ]
  },
  {
   "cell_type": "code",
   "execution_count": 240,
   "id": "7e1010bb",
   "metadata": {},
   "outputs": [],
   "source": [
    "from xgboost import XGBClassifier\n"
   ]
  },
  {
   "cell_type": "code",
   "execution_count": 241,
   "id": "34719158",
   "metadata": {},
   "outputs": [],
   "source": [
    "## Hyper Parameter Optimization\n",
    "\n",
    "params={\n",
    " \"learning_rate\"    : [0.05, 0.10, 0.15, 0.20, 0.25, 0.30 ] ,\n",
    " \"max_depth\"        : [ 3, 4, 5, 6, 8, 10, 12, 15],\n",
    " \"min_child_weight\" : [ 1, 3, 5, 7 ],\n",
    " \"gamma\"            : [ 0.0, 0.1, 0.2 , 0.3, 0.4 ],\n",
    " \"colsample_bytree\" : [ 0.3, 0.4, 0.5 , 0.7 ]\n",
    "    \n",
    "}"
   ]
  },
  {
   "cell_type": "code",
   "execution_count": 242,
   "id": "5374c1a5",
   "metadata": {},
   "outputs": [],
   "source": [
    "from sklearn.preprocessing import LabelEncoder\n",
    "le = LabelEncoder()\n",
    "y_train = le.fit_transform(y_train)\n",
    "y_test = le.fit_transform(y_test)"
   ]
  },
  {
   "cell_type": "code",
   "execution_count": 243,
   "id": "4a796e74",
   "metadata": {},
   "outputs": [
    {
     "data": {
      "text/plain": [
       "XGBClassifier()"
      ]
     },
     "execution_count": 243,
     "metadata": {},
     "output_type": "execute_result"
    }
   ],
   "source": [
    "XGB_Classifier= XGBClassifier(objective='binary:logistic')\n",
    "XGB_Classifier.fit(X_train,y_train)"
   ]
  },
  {
   "cell_type": "code",
   "execution_count": 244,
   "id": "e9250919",
   "metadata": {},
   "outputs": [],
   "source": [
    "## Hyperparameter optimization using RandomizedSearchCV\n",
    "from sklearn.model_selection import RandomizedSearchCV, GridSearchCV\n",
    "import xgboost\n",
    "random_search=RandomizedSearchCV(XGB_Classifier,param_distributions=params,n_iter=5)"
   ]
  },
  {
   "cell_type": "code",
   "execution_count": 245,
   "id": "b935fd74",
   "metadata": {},
   "outputs": [],
   "source": [
    "random_search=random_search.fit(X_train,y_train)\n"
   ]
  },
  {
   "cell_type": "code",
   "execution_count": 246,
   "id": "a6885eda",
   "metadata": {},
   "outputs": [
    {
     "data": {
      "text/plain": [
       "{'min_child_weight': 1,\n",
       " 'max_depth': 5,\n",
       " 'learning_rate': 0.3,\n",
       " 'gamma': 0.4,\n",
       " 'colsample_bytree': 0.4}"
      ]
     },
     "execution_count": 246,
     "metadata": {},
     "output_type": "execute_result"
    }
   ],
   "source": [
    "random_search.best_params_\n"
   ]
  },
  {
   "cell_type": "code",
   "execution_count": 247,
   "id": "f5437bc1",
   "metadata": {},
   "outputs": [
    {
     "data": {
      "text/plain": [
       "XGBClassifier(colsample_bytree=0.4, gamma=0.4, learning_rate=0.3, max_depth=5)"
      ]
     },
     "execution_count": 247,
     "metadata": {},
     "output_type": "execute_result"
    }
   ],
   "source": [
    "XGB_Classifier = XGBClassifier(objective='binary:logistic',max_depth=5,learning_rate=0.3,gamma=0.4,min_child_weight=1,colsample_bytree=0.4)\n",
    "XGB_Classifier.fit(X_train,y_train)"
   ]
  },
  {
   "cell_type": "code",
   "execution_count": 248,
   "id": "0f1a01fe",
   "metadata": {},
   "outputs": [],
   "source": [
    "y_pred_XGB=XGB_Classifier.predict(X_test)"
   ]
  },
  {
   "cell_type": "code",
   "execution_count": 249,
   "id": "fb02b3f5",
   "metadata": {},
   "outputs": [],
   "source": [
    "accuracy_XGB= accuracy_score(y_test,y_pred_XGB)\n",
    "precision_XGB= precision_score(y_test,y_pred_XGB)\n",
    "recall_XGB = recall_score(y_test,y_pred_XGB)\n",
    "f1_XGB = f1_score(y_test,y_pred_XGB)"
   ]
  },
  {
   "cell_type": "code",
   "execution_count": 250,
   "id": "da6daf31",
   "metadata": {},
   "outputs": [],
   "source": [
    "oooModel_compare = pd.DataFrame({'Logistic Regression':[accuracy_logreg,precision_logreg,recall_logreg,f1_logreg],\n",
    "                             'Naive Bayes': [accuracy_nb,precision_nb,recall_nb,f1_nb],\n",
    "                             'KNN':[accuracy_knn,precision_knn,recall_knn,f1_knn],\n",
    "                             'Support Vector Machine':[accuracy_svc,precision_svc,recall_svc,f1_svc],\n",
    "                             'Random Forest Classifier':[accuracy_ranfor,precision_ranfor,recall_ranfor,f1_ranfor],\n",
    "                             'Decision Tree Classifier':[accuracy_dectree,precision_dectree,recall_dectree,f1_dectree],\n",
    "                   ooo           'Gradient Boosting Classifier':[accuracy_Gradient,precision_Gradient,recall_Gradient,f1_Gradient],\n",
    "                             'XG Boosting Classifier':[accuracy_XGB,precision_XGB,recall_XGB,f1_XGB]\n",
    "\n",
    "                             },index = ['Accuracy','Precision','Recall','f1 score'])"
   ]
  },
  {
   "cell_type": "code",
   "execution_count": 251,
   "id": "856b1dca",
   "metadata": {},
   "outputs": [
    {
     "data": {
      "text/html": [
       "<div>\n",
       "<style scoped>\n",
       "    .dataframe tbody tr th:only-of-type {\n",
       "        vertical-align: middle;\n",
       "    }\n",
       "\n",
       "    .dataframe tbody tr th {\n",
       "        vertical-align: top;\n",
       "    }\n",
       "\n",
       "    .dataframe thead th {\n",
       "        text-align: right;\n",
       "    }\n",
       "</style>\n",
       "<table border=\"1\" class=\"dataframe\">\n",
       "  <thead>\n",
       "    <tr style=\"text-align: right;\">\n",
       "      <th></th>\n",
       "      <th>Logistic Regression</th>\n",
       "      <th>Naive Bayes</th>\n",
       "      <th>KNN</th>\n",
       "      <th>Support Vector Machine</th>\n",
       "      <th>Random Forest Classifier</th>\n",
       "      <th>Decision Tree Classifier</th>\n",
       "      <th>Gradient Boosting Classifier</th>\n",
       "      <th>XG Boosting Classifier</th>\n",
       "    </tr>\n",
       "  </thead>\n",
       "  <tbody>\n",
       "    <tr>\n",
       "      <th>Accuracy</th>\n",
       "      <td>0.730061</td>\n",
       "      <td>0.717791</td>\n",
       "      <td>0.736196</td>\n",
       "      <td>0.711656</td>\n",
       "      <td>0.834356</td>\n",
       "      <td>0.779141</td>\n",
       "      <td>0.858896</td>\n",
       "      <td>0.852761</td>\n",
       "    </tr>\n",
       "    <tr>\n",
       "      <th>Precision</th>\n",
       "      <td>0.722222</td>\n",
       "      <td>0.689655</td>\n",
       "      <td>0.704918</td>\n",
       "      <td>0.705882</td>\n",
       "      <td>0.872727</td>\n",
       "      <td>0.847826</td>\n",
       "      <td>0.846154</td>\n",
       "      <td>0.838095</td>\n",
       "    </tr>\n",
       "    <tr>\n",
       "      <th>Recall</th>\n",
       "      <td>0.573529</td>\n",
       "      <td>0.588235</td>\n",
       "      <td>0.632353</td>\n",
       "      <td>0.529412</td>\n",
       "      <td>0.705882</td>\n",
       "      <td>0.573529</td>\n",
       "      <td>0.808824</td>\n",
       "      <td>0.926316</td>\n",
       "    </tr>\n",
       "    <tr>\n",
       "      <th>f1 score</th>\n",
       "      <td>0.639344</td>\n",
       "      <td>0.634921</td>\n",
       "      <td>0.666667</td>\n",
       "      <td>0.605042</td>\n",
       "      <td>0.780488</td>\n",
       "      <td>0.684211</td>\n",
       "      <td>0.827068</td>\n",
       "      <td>0.880000</td>\n",
       "    </tr>\n",
       "  </tbody>\n",
       "</table>\n",
       "</div>"
      ],
      "text/plain": [
       "           Logistic Regression  Naive Bayes       KNN  Support Vector Machine  \\\n",
       "Accuracy              0.730061     0.717791  0.736196                0.711656   \n",
       "Precision             0.722222     0.689655  0.704918                0.705882   \n",
       "Recall                0.573529     0.588235  0.632353                0.529412   \n",
       "f1 score              0.639344     0.634921  0.666667                0.605042   \n",
       "\n",
       "           Random Forest Classifier  Decision Tree Classifier  \\\n",
       "Accuracy                   0.834356                  0.779141   \n",
       "Precision                  0.872727                  0.847826   \n",
       "Recall                     0.705882                  0.573529   \n",
       "f1 score                   0.780488                  0.684211   \n",
       "\n",
       "           Gradient Boosting Classifier  XG Boosting Classifier  \n",
       "Accuracy                       0.858896                0.852761  \n",
       "Precision                      0.846154                0.838095  \n",
       "Recall                         0.808824                0.926316  \n",
       "f1 score                       0.827068                0.880000  "
      ]
     },
     "execution_count": 251,
     "metadata": {},
     "output_type": "execute_result"
    }
   ],
   "source": [
    "Model_compare"
   ]
  },
  {
   "cell_type": "markdown",
   "id": "c3f8c70d",
   "metadata": {},
   "source": [
    "### Result:\n",
    "\n",
    "From these results it is found that Dataset shows better results and Gradient Boosting Classifier,XG Boosting Classifier is the best model."
   ]
  },
  {
   "cell_type": "markdown",
   "id": "6eb5a000",
   "metadata": {},
   "source": [
    "### Challanges faced on the Data\n",
    "\n",
    "#### Handling null values to filling NaN values with median using fillna() method.\n",
    "#### Handling Categorical data of gender by converting into numerical data using Onehot Encoding Method.\n",
    "#### Removing Outliers using this methods\n",
    "*some column diagram shows like normal distribution-To use z score formula. \n",
    "\n",
    "*some column diagram right skewed-inter quartile range formula.\n",
    "#### Based on the statistical test(Correlation), we will drop the feature : direct bilurbin.\n",
    "#### Scaling the data using standard scaler method.\n",
    "#### Handling Imbalanced data using the random sampling Technique.\n",
    "#### Hyperparameter was used to find the Best Parameter."
   ]
  },
  {
   "cell_type": "code",
   "execution_count": null,
   "id": "f0be15a4",
   "metadata": {},
   "outputs": [],
   "source": []
  }
 ],
 "metadata": {
  "kernelspec": {
   "display_name": "Python 3 (ipykernel)",
   "language": "python",
   "name": "python3"
  },
  "language_info": {
   "codemirror_mode": {
    "name": "ipython",
    "version": 3
   },
   "file_extension": ".py",
   "mimetype": "text/x-python",
   "name": "python",
   "nbconvert_exporter": "python",
   "pygments_lexer": "ipython3",
   "version": "3.9.5"
  }
 },
 "nbformat": 4,
 "nbformat_minor": 5
}
